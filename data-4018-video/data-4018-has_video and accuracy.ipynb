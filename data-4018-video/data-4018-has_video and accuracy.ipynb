{
 "cells": [
  {
   "cell_type": "markdown",
   "id": "e8b9f470",
   "metadata": {},
   "source": [
    "## Z-test for Sessions with and without has_video field"
   ]
  },
  {
   "cell_type": "code",
   "execution_count": 2,
   "id": "8b5f4717",
   "metadata": {},
   "outputs": [
    {
     "name": "stdout",
     "output_type": "stream",
     "text": [
      "Installing packages from requirements.txt ...\n",
      "Requirement already satisfied: pandas in /Users/gadirmamedov/python_notebooks/.coding-venv/lib/python3.13/site-packages (from -r requirements.txt (line 1)) (2.3.1)\n",
      "Requirement already satisfied: numpy in /Users/gadirmamedov/python_notebooks/.coding-venv/lib/python3.13/site-packages (from -r requirements.txt (line 2)) (2.3.1)\n",
      "Requirement already satisfied: scipy in /Users/gadirmamedov/python_notebooks/.coding-venv/lib/python3.13/site-packages (from -r requirements.txt (line 3)) (1.16.0)\n",
      "Requirement already satisfied: plotly in /Users/gadirmamedov/python_notebooks/.coding-venv/lib/python3.13/site-packages (from -r requirements.txt (line 4)) (6.2.0)\n",
      "Requirement already satisfied: joblib in /Users/gadirmamedov/python_notebooks/.coding-venv/lib/python3.13/site-packages (from -r requirements.txt (line 5)) (1.5.1)\n",
      "Requirement already satisfied: scikit-learn in /Users/gadirmamedov/python_notebooks/.coding-venv/lib/python3.13/site-packages (from -r requirements.txt (line 6)) (1.7.0)\n",
      "Requirement already satisfied: matplotlib in /Users/gadirmamedov/python_notebooks/.coding-venv/lib/python3.13/site-packages (from -r requirements.txt (line 7)) (3.10.3)\n",
      "Requirement already satisfied: seaborn in /Users/gadirmamedov/python_notebooks/.coding-venv/lib/python3.13/site-packages (from -r requirements.txt (line 8)) (0.13.2)\n",
      "Requirement already satisfied: statsmodels in /Users/gadirmamedov/python_notebooks/.coding-venv/lib/python3.13/site-packages (from -r requirements.txt (line 9)) (0.14.5)\n",
      "Requirement already satisfied: psycopg2-binary in /Users/gadirmamedov/python_notebooks/.coding-venv/lib/python3.13/site-packages (from -r requirements.txt (line 10)) (2.9.10)\n",
      "Requirement already satisfied: redshift_connector in /Users/gadirmamedov/python_notebooks/.coding-venv/lib/python3.13/site-packages (from -r requirements.txt (line 11)) (2.1.8)\n",
      "Requirement already satisfied: ipywidgets in /Users/gadirmamedov/python_notebooks/.coding-venv/lib/python3.13/site-packages (from -r requirements.txt (line 12)) (8.1.7)\n",
      "Requirement already satisfied: tqdm in /Users/gadirmamedov/python_notebooks/.coding-venv/lib/python3.13/site-packages (from -r requirements.txt (line 13)) (4.67.1)\n",
      "Requirement already satisfied: IPython in /Users/gadirmamedov/python_notebooks/.coding-venv/lib/python3.13/site-packages (from -r requirements.txt (line 14)) (9.4.0)\n",
      "Requirement already satisfied: notebook in /Users/gadirmamedov/python_notebooks/.coding-venv/lib/python3.13/site-packages (from -r requirements.txt (line 15)) (7.4.4)\n",
      "Requirement already satisfied: jupyter in /Users/gadirmamedov/python_notebooks/.coding-venv/lib/python3.13/site-packages (from -r requirements.txt (line 16)) (1.1.1)\n",
      "Requirement already satisfied: typing-extensions in /Users/gadirmamedov/python_notebooks/.coding-venv/lib/python3.13/site-packages (from -r requirements.txt (line 17)) (4.14.1)\n",
      "Requirement already satisfied: jupyterlab in /Users/gadirmamedov/python_notebooks/.coding-venv/lib/python3.13/site-packages (from -r requirements.txt (line 19)) (4.4.5)\n",
      "Requirement already satisfied: python-dateutil>=2.8.2 in /Users/gadirmamedov/python_notebooks/.coding-venv/lib/python3.13/site-packages (from pandas->-r requirements.txt (line 1)) (2.9.0.post0)\n",
      "Requirement already satisfied: pytz>=2020.1 in /Users/gadirmamedov/python_notebooks/.coding-venv/lib/python3.13/site-packages (from pandas->-r requirements.txt (line 1)) (2025.2)\n",
      "Requirement already satisfied: tzdata>=2022.7 in /Users/gadirmamedov/python_notebooks/.coding-venv/lib/python3.13/site-packages (from pandas->-r requirements.txt (line 1)) (2025.2)\n",
      "Requirement already satisfied: narwhals>=1.15.1 in /Users/gadirmamedov/python_notebooks/.coding-venv/lib/python3.13/site-packages (from plotly->-r requirements.txt (line 4)) (1.46.0)\n",
      "Requirement already satisfied: packaging in /Users/gadirmamedov/python_notebooks/.coding-venv/lib/python3.13/site-packages (from plotly->-r requirements.txt (line 4)) (25.0)\n",
      "Requirement already satisfied: threadpoolctl>=3.1.0 in /Users/gadirmamedov/python_notebooks/.coding-venv/lib/python3.13/site-packages (from scikit-learn->-r requirements.txt (line 6)) (3.6.0)\n",
      "Requirement already satisfied: contourpy>=1.0.1 in /Users/gadirmamedov/python_notebooks/.coding-venv/lib/python3.13/site-packages (from matplotlib->-r requirements.txt (line 7)) (1.3.2)\n",
      "Requirement already satisfied: cycler>=0.10 in /Users/gadirmamedov/python_notebooks/.coding-venv/lib/python3.13/site-packages (from matplotlib->-r requirements.txt (line 7)) (0.12.1)\n",
      "Requirement already satisfied: fonttools>=4.22.0 in /Users/gadirmamedov/python_notebooks/.coding-venv/lib/python3.13/site-packages (from matplotlib->-r requirements.txt (line 7)) (4.58.5)\n",
      "Requirement already satisfied: kiwisolver>=1.3.1 in /Users/gadirmamedov/python_notebooks/.coding-venv/lib/python3.13/site-packages (from matplotlib->-r requirements.txt (line 7)) (1.4.8)\n",
      "Requirement already satisfied: pillow>=8 in /Users/gadirmamedov/python_notebooks/.coding-venv/lib/python3.13/site-packages (from matplotlib->-r requirements.txt (line 7)) (11.3.0)\n",
      "Requirement already satisfied: pyparsing>=2.3.1 in /Users/gadirmamedov/python_notebooks/.coding-venv/lib/python3.13/site-packages (from matplotlib->-r requirements.txt (line 7)) (3.2.3)\n",
      "Requirement already satisfied: patsy>=0.5.6 in /Users/gadirmamedov/python_notebooks/.coding-venv/lib/python3.13/site-packages (from statsmodels->-r requirements.txt (line 9)) (1.0.1)\n",
      "Requirement already satisfied: scramp<1.5.0,>=1.2.0 in /Users/gadirmamedov/python_notebooks/.coding-venv/lib/python3.13/site-packages (from redshift_connector->-r requirements.txt (line 11)) (1.4.6)\n",
      "Requirement already satisfied: beautifulsoup4<5.0.0,>=4.7.0 in /Users/gadirmamedov/python_notebooks/.coding-venv/lib/python3.13/site-packages (from redshift_connector->-r requirements.txt (line 11)) (4.13.4)\n",
      "Requirement already satisfied: boto3<2.0.0,>=1.9.201 in /Users/gadirmamedov/python_notebooks/.coding-venv/lib/python3.13/site-packages (from redshift_connector->-r requirements.txt (line 11)) (1.39.4)\n",
      "Requirement already satisfied: requests<3.0.0,>=2.23.0 in /Users/gadirmamedov/python_notebooks/.coding-venv/lib/python3.13/site-packages (from redshift_connector->-r requirements.txt (line 11)) (2.32.4)\n",
      "Requirement already satisfied: lxml<6.0.0,>=4.6.5 in /Users/gadirmamedov/python_notebooks/.coding-venv/lib/python3.13/site-packages (from redshift_connector->-r requirements.txt (line 11)) (5.4.0)\n",
      "Requirement already satisfied: botocore<2.0.0,>=1.12.201 in /Users/gadirmamedov/python_notebooks/.coding-venv/lib/python3.13/site-packages (from redshift_connector->-r requirements.txt (line 11)) (1.39.4)\n",
      "Requirement already satisfied: setuptools in /Users/gadirmamedov/python_notebooks/.coding-venv/lib/python3.13/site-packages (from redshift_connector->-r requirements.txt (line 11)) (80.9.0)\n",
      "Requirement already satisfied: soupsieve>1.2 in /Users/gadirmamedov/python_notebooks/.coding-venv/lib/python3.13/site-packages (from beautifulsoup4<5.0.0,>=4.7.0->redshift_connector->-r requirements.txt (line 11)) (2.7)\n",
      "Requirement already satisfied: jmespath<2.0.0,>=0.7.1 in /Users/gadirmamedov/python_notebooks/.coding-venv/lib/python3.13/site-packages (from boto3<2.0.0,>=1.9.201->redshift_connector->-r requirements.txt (line 11)) (1.0.1)\n",
      "Requirement already satisfied: s3transfer<0.14.0,>=0.13.0 in /Users/gadirmamedov/python_notebooks/.coding-venv/lib/python3.13/site-packages (from boto3<2.0.0,>=1.9.201->redshift_connector->-r requirements.txt (line 11)) (0.13.0)\n",
      "Requirement already satisfied: urllib3!=2.2.0,<3,>=1.25.4 in /Users/gadirmamedov/python_notebooks/.coding-venv/lib/python3.13/site-packages (from botocore<2.0.0,>=1.12.201->redshift_connector->-r requirements.txt (line 11)) (2.5.0)\n",
      "Requirement already satisfied: six>=1.5 in /Users/gadirmamedov/python_notebooks/.coding-venv/lib/python3.13/site-packages (from python-dateutil>=2.8.2->pandas->-r requirements.txt (line 1)) (1.17.0)\n",
      "Requirement already satisfied: charset_normalizer<4,>=2 in /Users/gadirmamedov/python_notebooks/.coding-venv/lib/python3.13/site-packages (from requests<3.0.0,>=2.23.0->redshift_connector->-r requirements.txt (line 11)) (3.4.2)\n",
      "Requirement already satisfied: idna<4,>=2.5 in /Users/gadirmamedov/python_notebooks/.coding-venv/lib/python3.13/site-packages (from requests<3.0.0,>=2.23.0->redshift_connector->-r requirements.txt (line 11)) (3.10)\n",
      "Requirement already satisfied: certifi>=2017.4.17 in /Users/gadirmamedov/python_notebooks/.coding-venv/lib/python3.13/site-packages (from requests<3.0.0,>=2.23.0->redshift_connector->-r requirements.txt (line 11)) (2025.7.14)\n",
      "Requirement already satisfied: asn1crypto>=1.5.1 in /Users/gadirmamedov/python_notebooks/.coding-venv/lib/python3.13/site-packages (from scramp<1.5.0,>=1.2.0->redshift_connector->-r requirements.txt (line 11)) (1.5.1)\n",
      "Requirement already satisfied: comm>=0.1.3 in /Users/gadirmamedov/python_notebooks/.coding-venv/lib/python3.13/site-packages (from ipywidgets->-r requirements.txt (line 12)) (0.2.2)\n",
      "Requirement already satisfied: traitlets>=4.3.1 in /Users/gadirmamedov/python_notebooks/.coding-venv/lib/python3.13/site-packages (from ipywidgets->-r requirements.txt (line 12)) (5.14.3)\n",
      "Requirement already satisfied: widgetsnbextension~=4.0.14 in /Users/gadirmamedov/python_notebooks/.coding-venv/lib/python3.13/site-packages (from ipywidgets->-r requirements.txt (line 12)) (4.0.14)\n",
      "Requirement already satisfied: jupyterlab_widgets~=3.0.15 in /Users/gadirmamedov/python_notebooks/.coding-venv/lib/python3.13/site-packages (from ipywidgets->-r requirements.txt (line 12)) (3.0.15)\n",
      "Requirement already satisfied: decorator in /Users/gadirmamedov/python_notebooks/.coding-venv/lib/python3.13/site-packages (from IPython->-r requirements.txt (line 14)) (5.2.1)\n",
      "Requirement already satisfied: ipython-pygments-lexers in /Users/gadirmamedov/python_notebooks/.coding-venv/lib/python3.13/site-packages (from IPython->-r requirements.txt (line 14)) (1.1.1)\n",
      "Requirement already satisfied: jedi>=0.16 in /Users/gadirmamedov/python_notebooks/.coding-venv/lib/python3.13/site-packages (from IPython->-r requirements.txt (line 14)) (0.19.2)\n",
      "Requirement already satisfied: matplotlib-inline in /Users/gadirmamedov/python_notebooks/.coding-venv/lib/python3.13/site-packages (from IPython->-r requirements.txt (line 14)) (0.1.7)\n",
      "Requirement already satisfied: pexpect>4.3 in /Users/gadirmamedov/python_notebooks/.coding-venv/lib/python3.13/site-packages (from IPython->-r requirements.txt (line 14)) (4.9.0)\n",
      "Requirement already satisfied: prompt_toolkit<3.1.0,>=3.0.41 in /Users/gadirmamedov/python_notebooks/.coding-venv/lib/python3.13/site-packages (from IPython->-r requirements.txt (line 14)) (3.0.51)\n",
      "Requirement already satisfied: pygments>=2.4.0 in /Users/gadirmamedov/python_notebooks/.coding-venv/lib/python3.13/site-packages (from IPython->-r requirements.txt (line 14)) (2.19.2)\n",
      "Requirement already satisfied: stack_data in /Users/gadirmamedov/python_notebooks/.coding-venv/lib/python3.13/site-packages (from IPython->-r requirements.txt (line 14)) (0.6.3)\n",
      "Requirement already satisfied: wcwidth in /Users/gadirmamedov/python_notebooks/.coding-venv/lib/python3.13/site-packages (from prompt_toolkit<3.1.0,>=3.0.41->IPython->-r requirements.txt (line 14)) (0.2.13)\n",
      "Requirement already satisfied: jupyter-server<3,>=2.4.0 in /Users/gadirmamedov/python_notebooks/.coding-venv/lib/python3.13/site-packages (from notebook->-r requirements.txt (line 15)) (2.16.0)\n",
      "Requirement already satisfied: jupyterlab-server<3,>=2.27.1 in /Users/gadirmamedov/python_notebooks/.coding-venv/lib/python3.13/site-packages (from notebook->-r requirements.txt (line 15)) (2.27.3)\n",
      "Requirement already satisfied: notebook-shim<0.3,>=0.2 in /Users/gadirmamedov/python_notebooks/.coding-venv/lib/python3.13/site-packages (from notebook->-r requirements.txt (line 15)) (0.2.4)\n",
      "Requirement already satisfied: tornado>=6.2.0 in /Users/gadirmamedov/python_notebooks/.coding-venv/lib/python3.13/site-packages (from notebook->-r requirements.txt (line 15)) (6.5.1)\n",
      "Requirement already satisfied: async-lru>=1.0.0 in /Users/gadirmamedov/python_notebooks/.coding-venv/lib/python3.13/site-packages (from jupyterlab->-r requirements.txt (line 19)) (2.0.5)\n",
      "Requirement already satisfied: httpx>=0.25.0 in /Users/gadirmamedov/python_notebooks/.coding-venv/lib/python3.13/site-packages (from jupyterlab->-r requirements.txt (line 19)) (0.28.1)\n",
      "Requirement already satisfied: ipykernel>=6.5.0 in /Users/gadirmamedov/python_notebooks/.coding-venv/lib/python3.13/site-packages (from jupyterlab->-r requirements.txt (line 19)) (6.29.5)\n",
      "Requirement already satisfied: jinja2>=3.0.3 in /Users/gadirmamedov/python_notebooks/.coding-venv/lib/python3.13/site-packages (from jupyterlab->-r requirements.txt (line 19)) (3.1.6)\n",
      "Requirement already satisfied: jupyter-core in /Users/gadirmamedov/python_notebooks/.coding-venv/lib/python3.13/site-packages (from jupyterlab->-r requirements.txt (line 19)) (5.8.1)\n",
      "Requirement already satisfied: jupyter-lsp>=2.0.0 in /Users/gadirmamedov/python_notebooks/.coding-venv/lib/python3.13/site-packages (from jupyterlab->-r requirements.txt (line 19)) (2.2.6)\n",
      "Requirement already satisfied: anyio>=3.1.0 in /Users/gadirmamedov/python_notebooks/.coding-venv/lib/python3.13/site-packages (from jupyter-server<3,>=2.4.0->notebook->-r requirements.txt (line 15)) (4.9.0)\n",
      "Requirement already satisfied: argon2-cffi>=21.1 in /Users/gadirmamedov/python_notebooks/.coding-venv/lib/python3.13/site-packages (from jupyter-server<3,>=2.4.0->notebook->-r requirements.txt (line 15)) (25.1.0)\n",
      "Requirement already satisfied: jupyter-client>=7.4.4 in /Users/gadirmamedov/python_notebooks/.coding-venv/lib/python3.13/site-packages (from jupyter-server<3,>=2.4.0->notebook->-r requirements.txt (line 15)) (8.6.3)\n",
      "Requirement already satisfied: jupyter-events>=0.11.0 in /Users/gadirmamedov/python_notebooks/.coding-venv/lib/python3.13/site-packages (from jupyter-server<3,>=2.4.0->notebook->-r requirements.txt (line 15)) (0.12.0)\n",
      "Requirement already satisfied: jupyter-server-terminals>=0.4.4 in /Users/gadirmamedov/python_notebooks/.coding-venv/lib/python3.13/site-packages (from jupyter-server<3,>=2.4.0->notebook->-r requirements.txt (line 15)) (0.5.3)\n",
      "Requirement already satisfied: nbconvert>=6.4.4 in /Users/gadirmamedov/python_notebooks/.coding-venv/lib/python3.13/site-packages (from jupyter-server<3,>=2.4.0->notebook->-r requirements.txt (line 15)) (7.16.6)\n",
      "Requirement already satisfied: nbformat>=5.3.0 in /Users/gadirmamedov/python_notebooks/.coding-venv/lib/python3.13/site-packages (from jupyter-server<3,>=2.4.0->notebook->-r requirements.txt (line 15)) (5.10.4)\n",
      "Requirement already satisfied: overrides>=5.0 in /Users/gadirmamedov/python_notebooks/.coding-venv/lib/python3.13/site-packages (from jupyter-server<3,>=2.4.0->notebook->-r requirements.txt (line 15)) (7.7.0)\n",
      "Requirement already satisfied: prometheus-client>=0.9 in /Users/gadirmamedov/python_notebooks/.coding-venv/lib/python3.13/site-packages (from jupyter-server<3,>=2.4.0->notebook->-r requirements.txt (line 15)) (0.22.1)\n",
      "Requirement already satisfied: pyzmq>=24 in /Users/gadirmamedov/python_notebooks/.coding-venv/lib/python3.13/site-packages (from jupyter-server<3,>=2.4.0->notebook->-r requirements.txt (line 15)) (27.0.0)\n",
      "Requirement already satisfied: send2trash>=1.8.2 in /Users/gadirmamedov/python_notebooks/.coding-venv/lib/python3.13/site-packages (from jupyter-server<3,>=2.4.0->notebook->-r requirements.txt (line 15)) (1.8.3)\n",
      "Requirement already satisfied: terminado>=0.8.3 in /Users/gadirmamedov/python_notebooks/.coding-venv/lib/python3.13/site-packages (from jupyter-server<3,>=2.4.0->notebook->-r requirements.txt (line 15)) (0.18.1)\n",
      "Requirement already satisfied: websocket-client>=1.7 in /Users/gadirmamedov/python_notebooks/.coding-venv/lib/python3.13/site-packages (from jupyter-server<3,>=2.4.0->notebook->-r requirements.txt (line 15)) (1.8.0)\n",
      "Requirement already satisfied: babel>=2.10 in /Users/gadirmamedov/python_notebooks/.coding-venv/lib/python3.13/site-packages (from jupyterlab-server<3,>=2.27.1->notebook->-r requirements.txt (line 15)) (2.17.0)\n",
      "Requirement already satisfied: json5>=0.9.0 in /Users/gadirmamedov/python_notebooks/.coding-venv/lib/python3.13/site-packages (from jupyterlab-server<3,>=2.27.1->notebook->-r requirements.txt (line 15)) (0.12.0)\n",
      "Requirement already satisfied: jsonschema>=4.18.0 in /Users/gadirmamedov/python_notebooks/.coding-venv/lib/python3.13/site-packages (from jupyterlab-server<3,>=2.27.1->notebook->-r requirements.txt (line 15)) (4.24.0)\n",
      "Requirement already satisfied: jupyter-console in /Users/gadirmamedov/python_notebooks/.coding-venv/lib/python3.13/site-packages (from jupyter->-r requirements.txt (line 16)) (6.6.3)\n",
      "Requirement already satisfied: sniffio>=1.1 in /Users/gadirmamedov/python_notebooks/.coding-venv/lib/python3.13/site-packages (from anyio>=3.1.0->jupyter-server<3,>=2.4.0->notebook->-r requirements.txt (line 15)) (1.3.1)\n",
      "Requirement already satisfied: argon2-cffi-bindings in /Users/gadirmamedov/python_notebooks/.coding-venv/lib/python3.13/site-packages (from argon2-cffi>=21.1->jupyter-server<3,>=2.4.0->notebook->-r requirements.txt (line 15)) (21.2.0)\n",
      "Requirement already satisfied: httpcore==1.* in /Users/gadirmamedov/python_notebooks/.coding-venv/lib/python3.13/site-packages (from httpx>=0.25.0->jupyterlab->-r requirements.txt (line 19)) (1.0.9)\n",
      "Requirement already satisfied: h11>=0.16 in /Users/gadirmamedov/python_notebooks/.coding-venv/lib/python3.13/site-packages (from httpcore==1.*->httpx>=0.25.0->jupyterlab->-r requirements.txt (line 19)) (0.16.0)\n",
      "Requirement already satisfied: appnope in /Users/gadirmamedov/python_notebooks/.coding-venv/lib/python3.13/site-packages (from ipykernel>=6.5.0->jupyterlab->-r requirements.txt (line 19)) (0.1.4)\n",
      "Requirement already satisfied: debugpy>=1.6.5 in /Users/gadirmamedov/python_notebooks/.coding-venv/lib/python3.13/site-packages (from ipykernel>=6.5.0->jupyterlab->-r requirements.txt (line 19)) (1.8.14)\n",
      "Requirement already satisfied: nest-asyncio in /Users/gadirmamedov/python_notebooks/.coding-venv/lib/python3.13/site-packages (from ipykernel>=6.5.0->jupyterlab->-r requirements.txt (line 19)) (1.6.0)\n",
      "Requirement already satisfied: psutil in /Users/gadirmamedov/python_notebooks/.coding-venv/lib/python3.13/site-packages (from ipykernel>=6.5.0->jupyterlab->-r requirements.txt (line 19)) (7.0.0)\n",
      "Requirement already satisfied: parso<0.9.0,>=0.8.4 in /Users/gadirmamedov/python_notebooks/.coding-venv/lib/python3.13/site-packages (from jedi>=0.16->IPython->-r requirements.txt (line 14)) (0.8.4)\n",
      "Requirement already satisfied: MarkupSafe>=2.0 in /Users/gadirmamedov/python_notebooks/.coding-venv/lib/python3.13/site-packages (from jinja2>=3.0.3->jupyterlab->-r requirements.txt (line 19)) (3.0.2)\n",
      "Requirement already satisfied: attrs>=22.2.0 in /Users/gadirmamedov/python_notebooks/.coding-venv/lib/python3.13/site-packages (from jsonschema>=4.18.0->jupyterlab-server<3,>=2.27.1->notebook->-r requirements.txt (line 15)) (25.3.0)\n",
      "Requirement already satisfied: jsonschema-specifications>=2023.03.6 in /Users/gadirmamedov/python_notebooks/.coding-venv/lib/python3.13/site-packages (from jsonschema>=4.18.0->jupyterlab-server<3,>=2.27.1->notebook->-r requirements.txt (line 15)) (2025.4.1)\n",
      "Requirement already satisfied: referencing>=0.28.4 in /Users/gadirmamedov/python_notebooks/.coding-venv/lib/python3.13/site-packages (from jsonschema>=4.18.0->jupyterlab-server<3,>=2.27.1->notebook->-r requirements.txt (line 15)) (0.36.2)\n",
      "Requirement already satisfied: rpds-py>=0.7.1 in /Users/gadirmamedov/python_notebooks/.coding-venv/lib/python3.13/site-packages (from jsonschema>=4.18.0->jupyterlab-server<3,>=2.27.1->notebook->-r requirements.txt (line 15)) (0.26.0)\n",
      "Requirement already satisfied: platformdirs>=2.5 in /Users/gadirmamedov/python_notebooks/.coding-venv/lib/python3.13/site-packages (from jupyter-core->jupyterlab->-r requirements.txt (line 19)) (4.3.8)\n",
      "Requirement already satisfied: python-json-logger>=2.0.4 in /Users/gadirmamedov/python_notebooks/.coding-venv/lib/python3.13/site-packages (from jupyter-events>=0.11.0->jupyter-server<3,>=2.4.0->notebook->-r requirements.txt (line 15)) (3.3.0)\n",
      "Requirement already satisfied: pyyaml>=5.3 in /Users/gadirmamedov/python_notebooks/.coding-venv/lib/python3.13/site-packages (from jupyter-events>=0.11.0->jupyter-server<3,>=2.4.0->notebook->-r requirements.txt (line 15)) (6.0.2)\n",
      "Requirement already satisfied: rfc3339-validator in /Users/gadirmamedov/python_notebooks/.coding-venv/lib/python3.13/site-packages (from jupyter-events>=0.11.0->jupyter-server<3,>=2.4.0->notebook->-r requirements.txt (line 15)) (0.1.4)\n",
      "Requirement already satisfied: rfc3986-validator>=0.1.1 in /Users/gadirmamedov/python_notebooks/.coding-venv/lib/python3.13/site-packages (from jupyter-events>=0.11.0->jupyter-server<3,>=2.4.0->notebook->-r requirements.txt (line 15)) (0.1.1)\n",
      "Requirement already satisfied: fqdn in /Users/gadirmamedov/python_notebooks/.coding-venv/lib/python3.13/site-packages (from jsonschema[format-nongpl]>=4.18.0->jupyter-events>=0.11.0->jupyter-server<3,>=2.4.0->notebook->-r requirements.txt (line 15)) (1.5.1)\n",
      "Requirement already satisfied: isoduration in /Users/gadirmamedov/python_notebooks/.coding-venv/lib/python3.13/site-packages (from jsonschema[format-nongpl]>=4.18.0->jupyter-events>=0.11.0->jupyter-server<3,>=2.4.0->notebook->-r requirements.txt (line 15)) (20.11.0)\n",
      "Requirement already satisfied: jsonpointer>1.13 in /Users/gadirmamedov/python_notebooks/.coding-venv/lib/python3.13/site-packages (from jsonschema[format-nongpl]>=4.18.0->jupyter-events>=0.11.0->jupyter-server<3,>=2.4.0->notebook->-r requirements.txt (line 15)) (3.0.0)\n",
      "Requirement already satisfied: uri-template in /Users/gadirmamedov/python_notebooks/.coding-venv/lib/python3.13/site-packages (from jsonschema[format-nongpl]>=4.18.0->jupyter-events>=0.11.0->jupyter-server<3,>=2.4.0->notebook->-r requirements.txt (line 15)) (1.3.0)\n",
      "Requirement already satisfied: webcolors>=24.6.0 in /Users/gadirmamedov/python_notebooks/.coding-venv/lib/python3.13/site-packages (from jsonschema[format-nongpl]>=4.18.0->jupyter-events>=0.11.0->jupyter-server<3,>=2.4.0->notebook->-r requirements.txt (line 15)) (24.11.1)\n",
      "Requirement already satisfied: bleach!=5.0.0 in /Users/gadirmamedov/python_notebooks/.coding-venv/lib/python3.13/site-packages (from bleach[css]!=5.0.0->nbconvert>=6.4.4->jupyter-server<3,>=2.4.0->notebook->-r requirements.txt (line 15)) (6.2.0)\n",
      "Requirement already satisfied: defusedxml in /Users/gadirmamedov/python_notebooks/.coding-venv/lib/python3.13/site-packages (from nbconvert>=6.4.4->jupyter-server<3,>=2.4.0->notebook->-r requirements.txt (line 15)) (0.7.1)\n",
      "Requirement already satisfied: jupyterlab-pygments in /Users/gadirmamedov/python_notebooks/.coding-venv/lib/python3.13/site-packages (from nbconvert>=6.4.4->jupyter-server<3,>=2.4.0->notebook->-r requirements.txt (line 15)) (0.3.0)\n",
      "Requirement already satisfied: mistune<4,>=2.0.3 in /Users/gadirmamedov/python_notebooks/.coding-venv/lib/python3.13/site-packages (from nbconvert>=6.4.4->jupyter-server<3,>=2.4.0->notebook->-r requirements.txt (line 15)) (3.1.3)\n",
      "Requirement already satisfied: nbclient>=0.5.0 in /Users/gadirmamedov/python_notebooks/.coding-venv/lib/python3.13/site-packages (from nbconvert>=6.4.4->jupyter-server<3,>=2.4.0->notebook->-r requirements.txt (line 15)) (0.10.2)\n",
      "Requirement already satisfied: pandocfilters>=1.4.1 in /Users/gadirmamedov/python_notebooks/.coding-venv/lib/python3.13/site-packages (from nbconvert>=6.4.4->jupyter-server<3,>=2.4.0->notebook->-r requirements.txt (line 15)) (1.5.1)\n",
      "Requirement already satisfied: webencodings in /Users/gadirmamedov/python_notebooks/.coding-venv/lib/python3.13/site-packages (from bleach!=5.0.0->bleach[css]!=5.0.0->nbconvert>=6.4.4->jupyter-server<3,>=2.4.0->notebook->-r requirements.txt (line 15)) (0.5.1)\n",
      "Requirement already satisfied: tinycss2<1.5,>=1.1.0 in /Users/gadirmamedov/python_notebooks/.coding-venv/lib/python3.13/site-packages (from bleach[css]!=5.0.0->nbconvert>=6.4.4->jupyter-server<3,>=2.4.0->notebook->-r requirements.txt (line 15)) (1.4.0)\n",
      "Requirement already satisfied: fastjsonschema>=2.15 in /Users/gadirmamedov/python_notebooks/.coding-venv/lib/python3.13/site-packages (from nbformat>=5.3.0->jupyter-server<3,>=2.4.0->notebook->-r requirements.txt (line 15)) (2.21.1)\n",
      "Requirement already satisfied: ptyprocess>=0.5 in /Users/gadirmamedov/python_notebooks/.coding-venv/lib/python3.13/site-packages (from pexpect>4.3->IPython->-r requirements.txt (line 14)) (0.7.0)\n",
      "Requirement already satisfied: cffi>=1.0.1 in /Users/gadirmamedov/python_notebooks/.coding-venv/lib/python3.13/site-packages (from argon2-cffi-bindings->argon2-cffi>=21.1->jupyter-server<3,>=2.4.0->notebook->-r requirements.txt (line 15)) (1.17.1)\n",
      "Requirement already satisfied: pycparser in /Users/gadirmamedov/python_notebooks/.coding-venv/lib/python3.13/site-packages (from cffi>=1.0.1->argon2-cffi-bindings->argon2-cffi>=21.1->jupyter-server<3,>=2.4.0->notebook->-r requirements.txt (line 15)) (2.22)\n",
      "Requirement already satisfied: arrow>=0.15.0 in /Users/gadirmamedov/python_notebooks/.coding-venv/lib/python3.13/site-packages (from isoduration->jsonschema[format-nongpl]>=4.18.0->jupyter-events>=0.11.0->jupyter-server<3,>=2.4.0->notebook->-r requirements.txt (line 15)) (1.3.0)\n",
      "Requirement already satisfied: types-python-dateutil>=2.8.10 in /Users/gadirmamedov/python_notebooks/.coding-venv/lib/python3.13/site-packages (from arrow>=0.15.0->isoduration->jsonschema[format-nongpl]>=4.18.0->jupyter-events>=0.11.0->jupyter-server<3,>=2.4.0->notebook->-r requirements.txt (line 15)) (2.9.0.20250708)\n",
      "Requirement already satisfied: executing>=1.2.0 in /Users/gadirmamedov/python_notebooks/.coding-venv/lib/python3.13/site-packages (from stack_data->IPython->-r requirements.txt (line 14)) (2.2.0)\n",
      "Requirement already satisfied: asttokens>=2.1.0 in /Users/gadirmamedov/python_notebooks/.coding-venv/lib/python3.13/site-packages (from stack_data->IPython->-r requirements.txt (line 14)) (3.0.0)\n",
      "Requirement already satisfied: pure-eval in /Users/gadirmamedov/python_notebooks/.coding-venv/lib/python3.13/site-packages (from stack_data->IPython->-r requirements.txt (line 14)) (0.2.3)\n"
     ]
    },
    {
     "name": "stderr",
     "output_type": "stream",
     "text": [
      "\n",
      "\u001b[1m[\u001b[0m\u001b[34;49mnotice\u001b[0m\u001b[1;39;49m]\u001b[0m\u001b[39;49m A new release of pip is available: \u001b[0m\u001b[31;49m25.1.1\u001b[0m\u001b[39;49m -> \u001b[0m\u001b[32;49m25.2\u001b[0m\n",
      "\u001b[1m[\u001b[0m\u001b[34;49mnotice\u001b[0m\u001b[1;39;49m]\u001b[0m\u001b[39;49m To update, run: \u001b[0m\u001b[32;49mpip install --upgrade pip\u001b[0m\n"
     ]
    }
   ],
   "source": [
    "# Install requirements.txt if not already installed\n",
    "import sys\n",
    "import subprocess\n",
    "\n",
    "try:\n",
    "    import os\n",
    "    if os.path.exists('requirements.txt'):\n",
    "        print(\"Installing packages from requirements.txt ...\")\n",
    "        subprocess.check_call([sys.executable, \"-m\", \"pip\", \"install\", \"-r\", \"requirements.txt\"])\n",
    "    else:\n",
    "        print(\"requirements.txt not found.\")\n",
    "except Exception as e:\n",
    "    print(f\"Error installing requirements: {e}\")"
   ]
  },
  {
   "cell_type": "code",
   "execution_count": 141,
   "id": "2846a4b9",
   "metadata": {},
   "outputs": [],
   "source": [
    "#Params\n",
    "#do you need to download an existing data?\n",
    "download = False\n",
    "\n",
    "START_DATE = '2025-02-01'\n",
    "END_DATE = '2025-08-01'\n",
    "\n",
    "#OR Relative date range\n",
    "# days_back_for_sql = 30  # Number of days back from the end date for SQL\n",
    "# START_DATE = (end_date - timedelta(days=days_back_for_sql)).strftime('%Y-%m-%d')\n",
    "# END_DATE = end_date.strftime('%Y-%m-%d')\n",
    "\n",
    "# Other query parameters\n",
    "REVIEW_TYPE = ['random_sample', 'customer_reporting_1', 'authentication_product'] #['random_sample', 'customer_reporting_1', 'authentication_product']\n",
    "REVIEW_TYPE_FOR_QUERY = ', '.join([\"'{}'\".format(review_type) for review_type in REVIEW_TYPE])\n",
    "\n",
    "# for Redshift connections\n",
    "REDSHIFT_HOST = \"wg-serverless-1.875431798560.eu-west-1.redshift-serverless.amazonaws.com\"\n",
    "REDSHIFT_DATABASE = \"vaire\"\n",
    "REDSHIFT_USER = os.environ.get(\"REDSHIFT_USER\")\n",
    "REDSHIFT_PASSWORD = os.environ.get(\"REDSHIFT_PASSWORD\")\n",
    "REDSHIFT_PORT = 5439\n",
    "\n",
    "## ready file if any\n",
    "file_path = 'sample_data.csv'"
   ]
  },
  {
   "cell_type": "code",
   "execution_count": 142,
   "id": "bd8f9615",
   "metadata": {},
   "outputs": [],
   "source": [
    "#Redshift Connector \n",
    "\n",
    "import redshift_connector\n",
    "import pandas as pd\n",
    "import logging\n",
    "import os\n",
    "\n",
    "# Configure logging for better error visibility\n",
    "logging.basicConfig(level=logging.INFO, format='%(asctime)s - %(levelname)s - %(message)s')\n",
    "\n",
    "def get_redshift_dataframe(\n",
    "    sql_query: str,\n",
    "    host: str,\n",
    "    database: str,\n",
    "    user: str,\n",
    "    password: str,\n",
    "    port: int = 5439 # Default Redshift port\n",
    ") -> pd.DataFrame:\n",
    "    \"\"\"\n",
    "    Connects to Amazon Redshift, executes a SQL query, and returns the result\n",
    "    as a pandas DataFrame.\n",
    "\n",
    "    Args:\n",
    "        sql_query (str): The SQL query string to execute.\n",
    "        host (str): The Redshift cluster endpoint (e.g., 'your-cluster.xxxx.region.redshift.amazonaws.com').\n",
    "        database (str): The name of the database to connect to.\n",
    "        user (str): The username for Redshift authentication.\n",
    "        password (str): The password for Redshift authentication.\n",
    "        port (int): The port number for the Redshift connection (default is 5439).\n",
    "\n",
    "    Returns:\n",
    "        pd.DataFrame: A pandas DataFrame containing the query results.\n",
    "                      Returns an empty DataFrame if an error occurs or no data is found.\n",
    "\n",
    "    Raises:\n",
    "        Exception: Re-raises any connection or query execution errors after logging.\n",
    "    \"\"\"\n",
    "    conn = None # Initialize connection to None\n",
    "    try:\n",
    "        logging.info(f\"Attempting to connect to Redshift database: {database}@{host}:{port} with user: {user}\")\n",
    "        conn = redshift_connector.connect(\n",
    "            host=host,\n",
    "            database=database,\n",
    "            user=user,\n",
    "            password=password,\n",
    "            port=port\n",
    "        )\n",
    "        logging.info(\"Successfully connected to Redshift.\")\n",
    "\n",
    "        logging.info(\"Executing SQL query...\")\n",
    "        # Use pandas read_sql for direct DataFrame conversion\n",
    "        df = pd.read_sql(sql_query, conn)\n",
    "        logging.info(f\"Query executed successfully. Fetched {len(df)} rows.\")\n",
    "\n",
    "        return df\n",
    "\n",
    "    except redshift_connector.Error as e:\n",
    "        logging.error(f\"Redshift connection or query error: {e}\")\n",
    "        return pd.DataFrame() # Return empty DataFrame on specific Redshift errors\n",
    "    except Exception as e:\n",
    "        logging.error(f\"An unexpected error occurred: {e}\")\n",
    "        # Optionally re-raise the exception if you want calling code to handle it\n",
    "        raise\n",
    "    finally:\n",
    "        if conn:\n",
    "            logging.info(\"Closing Redshift connection.\")\n",
    "            conn.close()\n",
    "        else:\n",
    "            logging.warning(\"Connection was not established, so nothing to close.\")"
   ]
  },
  {
   "cell_type": "code",
   "execution_count": 143,
   "id": "b79a342a",
   "metadata": {},
   "outputs": [],
   "source": [
    "query = f\"\"\"\n",
    "WITH verification_sessions AS (\n",
    "SELECT \n",
    "verification_session_uuid\n",
    ", vs.shard_key\n",
    ", vs.has_video\n",
    ", vs.verification_session_tool_name\n",
    ", vs.service_agreement_stage\n",
    ", vs.primary_product\n",
    ", CASE\n",
    "    WHEN vs.primary_product IN ('IDV', 'Document Verification', 'AIC') THEN 'IDV'\n",
    "    WHEN vs.primary_product LIKE 'Full Auto%' THEN 'Full Auto'\n",
    "    WHEN vs.primary_product LIKE '%Biometric%' OR vs.primary_product IN ('Face Match', 'Age Estimation') THEN 'Biometric Solutions'\n",
    "    WHEN vs.primary_product = 'Unknown' THEN 'Unknown'\n",
    "    ELSE 'Data Verification'\n",
    "END as product_portfolio\n",
    "FROM analytics_mart_kpi.mart_kpi__verification_session_metrics vs\n",
    "WHERE date(vs.verified_at) >= CAST('{START_DATE}' AS DATE)\n",
    "AND date(vs.verified_at) <= CAST('{END_DATE}' AS DATE)\n",
    ")\n",
    ", data as (\n",
    "SELECT \n",
    "qa.verification_session_uuid\n",
    ", qa.shard_key\n",
    ", qa.verification_session_uuid as qa_verification_session_uuid\n",
    ", qa.qa_review_type\n",
    ", qa.flag_session_has_decision_error\n",
    ", qa.flag_session_has_critical_approve_error\n",
    ", qa.flag_session_has_critical_decline_error\n",
    ", qa.flag_session_has_extraction_error\n",
    ", qa.flag_session_has_critical_error\n",
    ", qa.is_session_approved_fraud\n",
    ", qa.is_session_fraud\n",
    ", qa.qa_decision\n",
    ", qa.original_decision\n",
    ", qa.qa_decision = 'declined' as qa_declinable\n",
    ", qa.qa_decision = 'approved' as qa_approvable\n",
    "--verification\n",
    ", vs.has_video\n",
    ", vs.primary_product\n",
    ", vs.product_portfolio\n",
    ", vs.service_agreement_stage\n",
    ", vs.verification_session_tool_name\n",
    "FROM analytics_mart_automation.mart_automation__verification_session_qa_review qa\n",
    "LEFT JOIN verification_sessions vs\n",
    "    ON vs.verification_session_uuid = qa.verification_session_uuid\n",
    "    AND vs.shard_key = qa.shard_key\n",
    "WHERE TRUE\n",
    "AND qa.verified_date >= CAST('{START_DATE}' AS DATE)\n",
    "AND qa.verified_date <= CAST('{END_DATE}' AS DATE)\n",
    "AND qa.qa_review_type IN ({REVIEW_TYPE_FOR_QUERY}) --('random_sample', 'customer_reporting_1', 'authentication_product')\n",
    "AND vs.service_agreement_stage NOT IN ('test', 'test_low')\n",
    ")\n",
    ", aggregated_data as (\n",
    "SELECT\n",
    "a.primary_product\n",
    ", a.product_portfolio\n",
    ", a.has_video\n",
    ", a.verification_session_tool_name\n",
    "--from QA \n",
    ", COALESCE(COUNT(DISTINCT a.qa_verification_session_uuid),0) as qa_reviewed\n",
    ", SUM(a.flag_session_has_decision_error::int) as decision_error_sessions\n",
    ", SUM(a.flag_session_has_critical_error::int) as critical_error_sessions\n",
    ", SUM(a.flag_session_has_extraction_error::int) as extraction_error_sessions\n",
    ", SUM(a.flag_session_has_critical_approve_error::int) as false_approves\n",
    ", SUM(a.flag_session_has_critical_decline_error::int) as false_declines\n",
    ", SUM(a.is_session_approved_fraud::int) as missed_fraud_sessions\n",
    ", SUM(a.qa_declinable::int) as declinable_sessions\n",
    ", SUM(a.qa_approvable::int) as approvable_sessions\n",
    ", SUM(a.is_session_fraud::int) as fraud_sessions\n",
    ", 1.00 * decision_error_sessions / NULLIF(qa_reviewed, 0) as decision_error_rate\n",
    ", 1.00 * critical_error_sessions / NULLIF(qa_reviewed, 0) as critical_error_rate\n",
    ", 1.00 * extraction_error_sessions / NULLIF(qa_reviewed, 0) as extraction_error_rate\n",
    ", 1.00 * false_approves / NULLIF(declinable_sessions, 0) as false_approve_rate\n",
    ", 1.00 * false_declines / NULLIF(approvable_sessions, 0) as false_rejection_rate\n",
    ", 1.00 * missed_fraud_sessions / NULLIF(fraud_sessions, 0) as missed_fraud_rate\n",
    ", 1.00 * declinable_sessions / NULLIF(qa_reviewed, 0) as decline_rate_in_qa\n",
    ", 1.00 * approvable_sessions / NULLIF(qa_reviewed, 0) as approve_rate_in_qa\n",
    ", 1.00 * fraud_sessions / NULLIF(qa_reviewed, 0) as fraud_rate_in_qa\n",
    "--, sum(qa_reviewed) over () as total_qa_reviewed\n",
    "--, 1.00 * qa_reviewed / NULLIF(total_qa_reviewed,0) as proportion_of_qa_sample\n",
    "from data a\n",
    "group by 1,2,3,4\n",
    ")\n",
    "SELECT *\n",
    "FROM aggregated_data\n",
    "\"\"\""
   ]
  },
  {
   "cell_type": "code",
   "execution_count": 144,
   "id": "589bd4bf",
   "metadata": {},
   "outputs": [
    {
     "name": "stderr",
     "output_type": "stream",
     "text": [
      "2025-08-07 13:00:09,075 - INFO - Attempting to connect to Redshift database: vaire@wg-serverless-1.875431798560.eu-west-1.redshift-serverless.amazonaws.com:5439 with user: gadir_mamedov\n",
      "2025-08-07 13:00:09,551 - INFO - Successfully connected to Redshift.\n",
      "2025-08-07 13:00:09,552 - INFO - Executing SQL query...\n",
      "/var/folders/21/4tgxh7dn3vjdh5xpfj_mh_pr0000gn/T/ipykernel_26163/1392376839.py:52: UserWarning:\n",
      "\n",
      "pandas only supports SQLAlchemy connectable (engine/connection) or database string URI or sqlite3 DBAPI2 connection. Other DBAPI2 objects are not tested. Please consider using SQLAlchemy.\n",
      "\n",
      "2025-08-07 13:02:19,306 - INFO - Query executed successfully. Fetched 32 rows.\n",
      "2025-08-07 13:02:19,307 - INFO - Closing Redshift connection.\n"
     ]
    },
    {
     "name": "stdout",
     "output_type": "stream",
     "text": [
      "\n",
      "Successfully fetched data from Redshift:\n",
      "              primary_product    product_portfolio  has_video  \\\n",
      "0                         IDV                  IDV      False   \n",
      "1    Biometric Authentication  Biometric Solutions       True   \n",
      "2            Proof of Address    Data Verification      False   \n",
      "3                     Unknown              Unknown      False   \n",
      "4  Biometric Passive Liveness  Biometric Solutions       True   \n",
      "\n",
      "  verification_session_tool_name  qa_reviewed  decision_error_sessions  \\\n",
      "0                      full_auto        43300                     1737   \n",
      "1                      full_auto         8919                      207   \n",
      "2                      full_auto            9                        0   \n",
      "3                      full_auto         3981                      306   \n",
      "4                      full_auto       105002                     1808   \n",
      "\n",
      "   critical_error_sessions  extraction_error_sessions  false_approves  \\\n",
      "0                      185                      303.0              89   \n",
      "1                      207                        NaN              17   \n",
      "2                        0                        NaN               0   \n",
      "3                       93                        NaN              93   \n",
      "4                      844                        NaN             707   \n",
      "\n",
      "   false_declines  ...  fraud_sessions  decision_error_rate  \\\n",
      "0              96  ...            1125             0.040115   \n",
      "1             190  ...             246             0.023209   \n",
      "2               0  ...               0             0.000000   \n",
      "3               0  ...               0             0.076865   \n",
      "4             137  ...            9146             0.017219   \n",
      "\n",
      "   critical_error_rate  extraction_error_rate  false_approve_rate  \\\n",
      "0             0.004273               0.006998            0.083490   \n",
      "1             0.023209                    NaN            0.053628   \n",
      "2             0.000000                    NaN            0.000000   \n",
      "3             0.023361                    NaN            0.978947   \n",
      "4             0.008038                    NaN            0.072505   \n",
      "\n",
      "   false_rejection_rate  missed_fraud_rate  decline_rate_in_qa  \\\n",
      "0              0.002532           0.031111            0.024619   \n",
      "1              0.022101           0.040650            0.035542   \n",
      "2              0.000000                NaN            0.555556   \n",
      "3              0.000000                NaN            0.023863   \n",
      "4              0.001470           0.014105            0.092865   \n",
      "\n",
      "   approve_rate_in_qa  fraud_rate_in_qa  \n",
      "0            0.875566          0.025982  \n",
      "1            0.963897          0.027582  \n",
      "2            0.444444          0.000000  \n",
      "3            0.851796          0.000000  \n",
      "4            0.887326          0.087103  \n",
      "\n",
      "[5 rows x 23 columns]\n",
      "\n",
      "DataFrame shape: (32, 23)\n"
     ]
    }
   ],
   "source": [
    "if download:\n",
    "    df = pd.read_csv(file_path)\n",
    "else:\n",
    "    df = get_redshift_dataframe(\n",
    "                sql_query=query, # Pass the multi-line query variable here\n",
    "                host=REDSHIFT_HOST,\n",
    "                database=REDSHIFT_DATABASE,\n",
    "                user=REDSHIFT_USER,\n",
    "                password=REDSHIFT_PASSWORD,\n",
    "                port=REDSHIFT_PORT\n",
    "            )\n",
    "\n",
    "    if not df.empty:\n",
    "        # Save the DataFrame to a CSV file\n",
    "        df.to_csv(file_path, index=False)\n",
    "        print(\"\\nSuccessfully fetched data from Redshift:\")\n",
    "        print(df.head())\n",
    "        print(f\"\\nDataFrame shape: {df.shape}\")\n",
    "    else:\n",
    "        print(\"\\nNo data fetched or an error occurred.\")"
   ]
  },
  {
   "cell_type": "code",
   "execution_count": 174,
   "id": "5d671697",
   "metadata": {},
   "outputs": [],
   "source": [
    "df_original = df.copy()"
   ]
  },
  {
   "cell_type": "code",
   "execution_count": 175,
   "id": "d88d835e",
   "metadata": {},
   "outputs": [],
   "source": [
    "df = df_original.copy()"
   ]
  },
  {
   "cell_type": "code",
   "execution_count": 176,
   "id": "9a463c1e",
   "metadata": {},
   "outputs": [],
   "source": [
    "df=df[df['primary_product'].isin(['Document Verification', \n",
    "                                  'Biometric Passive Liveness', 'IDV',\n",
    "                                  'Biometric Authentication',\n",
    "                                   'Full Auto IDV (Selfie & Document)',\n",
    "                                   'Full Auto IDV (Document Only)'])]"
   ]
  },
  {
   "cell_type": "code",
   "execution_count": 177,
   "id": "59d5ab1c",
   "metadata": {},
   "outputs": [],
   "source": [
    "df = df[df['verification_session_tool_name'] == 'verification_tool']"
   ]
  },
  {
   "cell_type": "code",
   "execution_count": 178,
   "id": "2bcc8e55",
   "metadata": {},
   "outputs": [
    {
     "name": "stdout",
     "output_type": "stream",
     "text": [
      "===========================================================\n",
      "Analyzing by dimension: primary_product\n",
      "===========================================================\n",
      "-----------------------------------------------------------\n",
      "Analysis complete. Results table:\n",
      "-----------------------------------------------------------\n",
      "          Dimension                       Group                 Metric  \\\n",
      "0   primary_product    Biometric Authentication      missed_fraud_rate   \n",
      "1   primary_product    Biometric Authentication     false_approve_rate   \n",
      "2   primary_product    Biometric Authentication   false_rejection_rate   \n",
      "3   primary_product    Biometric Authentication    critical_error_rate   \n",
      "4   primary_product    Biometric Authentication  extraction_error_rate   \n",
      "5   primary_product  Biometric Passive Liveness      missed_fraud_rate   \n",
      "6   primary_product  Biometric Passive Liveness     false_approve_rate   \n",
      "7   primary_product  Biometric Passive Liveness   false_rejection_rate   \n",
      "8   primary_product  Biometric Passive Liveness    critical_error_rate   \n",
      "9   primary_product  Biometric Passive Liveness  extraction_error_rate   \n",
      "10  primary_product       Document Verification      missed_fraud_rate   \n",
      "11  primary_product       Document Verification     false_approve_rate   \n",
      "12  primary_product       Document Verification   false_rejection_rate   \n",
      "13  primary_product       Document Verification    critical_error_rate   \n",
      "14  primary_product       Document Verification  extraction_error_rate   \n",
      "15  primary_product                         IDV      missed_fraud_rate   \n",
      "16  primary_product                         IDV     false_approve_rate   \n",
      "17  primary_product                         IDV   false_rejection_rate   \n",
      "18  primary_product                         IDV    critical_error_rate   \n",
      "19  primary_product                         IDV  extraction_error_rate   \n",
      "\n",
      "       Delta   P-Value  Significant  Rate_has_video_True  \\\n",
      "0   0.000000       NaN        False             0.000000   \n",
      "1   0.000000       NaN        False             0.000000   \n",
      "2  -0.034483  0.063610        False             0.000000   \n",
      "3  -0.030303  0.080575        False             0.000000   \n",
      "4   0.000000       NaN        False             0.000000   \n",
      "5   0.018817  0.661518        False             0.018817   \n",
      "6   0.051342  0.384260        False             0.051342   \n",
      "7   0.002783  0.726019        False             0.002783   \n",
      "8   0.012054  0.388345        False             0.012054   \n",
      "9   0.000000       NaN        False             0.000000   \n",
      "10 -0.075410  0.068156        False             0.000000   \n",
      "11 -0.074503  0.069970        False             0.000000   \n",
      "12  0.005952  0.162823        False             0.013423   \n",
      "13 -0.002229  0.475023        False             0.006438   \n",
      "14  0.005886  0.252712        False             0.028970   \n",
      "15  0.026103  0.236778        False             0.064777   \n",
      "16 -0.014498  0.563813        False             0.080153   \n",
      "17  0.001472  0.538531        False             0.006805   \n",
      "18 -0.001085  0.635874        False             0.009148   \n",
      "19  0.013270  0.000733         True             0.034665   \n",
      "\n",
      "    Rate_has_video_False  Margin_has_video_True Range_has_video_True  \\\n",
      "0               0.000000               0.000000     [0.0000, 0.0000]   \n",
      "1               0.000000               0.000000     [0.0000, 0.0000]   \n",
      "2               0.034483               0.000000     [0.0000, 0.0000]   \n",
      "3               0.030303               0.000000     [0.0000, 0.0000]   \n",
      "4               0.000000               0.000000     [0.0000, 0.0000]   \n",
      "5               0.000000               0.013808     [0.0050, 0.0326]   \n",
      "6               0.000000               0.014776     [0.0366, 0.0661]   \n",
      "7               0.000000               0.001723     [0.0011, 0.0045]   \n",
      "8               0.000000               0.003196     [0.0089, 0.0152]   \n",
      "9               0.000000               0.000000     [0.0000, 0.0000]   \n",
      "10              0.075410               0.000000     [0.0000, 0.0000]   \n",
      "11              0.074503               0.000000     [0.0000, 0.0000]   \n",
      "12              0.007471               0.010668     [0.0028, 0.0241]   \n",
      "13              0.008667               0.005135     [0.0013, 0.0116]   \n",
      "14              0.023084               0.010768     [0.0182, 0.0397]   \n",
      "15              0.038674               0.030696     [0.0341, 0.0955]   \n",
      "16              0.094650               0.032879     [0.0473, 0.1130]   \n",
      "17              0.005333               0.003224     [0.0036, 0.0100]   \n",
      "18              0.010233               0.002895     [0.0063, 0.0120]   \n",
      "19              0.021395               0.005563     [0.0291, 0.0402]   \n",
      "\n",
      "    Margin_has_video_False Range_has_video_False  \n",
      "0                 0.000000      [0.0000, 0.0000]  \n",
      "1                 0.000000      [0.0000, 0.0000]  \n",
      "2                 0.066411     [-0.0319, 0.1009]  \n",
      "3                 0.058487     [-0.0282, 0.0888]  \n",
      "4                 0.000000      [0.0000, 0.0000]  \n",
      "5                 0.000000      [0.0000, 0.0000]  \n",
      "6                 0.000000      [0.0000, 0.0000]  \n",
      "7                 0.000000      [0.0000, 0.0000]  \n",
      "8                 0.000000      [0.0000, 0.0000]  \n",
      "9                 0.000000      [0.0000, 0.0000]  \n",
      "10                0.020955      [0.0545, 0.0964]  \n",
      "11                0.020942      [0.0536, 0.0954]  \n",
      "12                0.001853      [0.0056, 0.0093]  \n",
      "13                0.001635      [0.0070, 0.0103]  \n",
      "14                0.002649      [0.0204, 0.0257]  \n",
      "15                0.028091      [0.0106, 0.0668]  \n",
      "16                0.036806      [0.0578, 0.1315]  \n",
      "17                0.003297      [0.0020, 0.0086]  \n",
      "18                0.003473      [0.0068, 0.0137]  \n",
      "19                0.004994      [0.0164, 0.0264]  \n",
      "\n",
      "Results have been saved to 'statistical_analysis_results.csv'.\n"
     ]
    },
    {
     "name": "stderr",
     "output_type": "stream",
     "text": [
      "/Users/gadirmamedov/python_notebooks/.coding-venv/lib/python3.13/site-packages/statsmodels/stats/weightstats.py:792: RuntimeWarning:\n",
      "\n",
      "invalid value encountered in scalar divide\n",
      "\n"
     ]
    }
   ],
   "source": [
    "import pandas as pd\n",
    "import numpy as np\n",
    "from statsmodels.stats.proportion import proportions_ztest\n",
    "\n",
    "# Z-score for a 95% confidence interval\n",
    "z_score = 1.96\n",
    "\n",
    "# 2. Define the metrics to analyze\n",
    "# Each metric requires a 'successes' column (x) and a 'trials' column (n)\n",
    "metrics = {\n",
    "    'missed_fraud_rate': {\n",
    "        'successes': 'missed_fraud_sessions',\n",
    "        'trials': 'fraud_sessions'\n",
    "    },\n",
    "    'false_approve_rate': {\n",
    "        'successes': 'false_approves',\n",
    "        'trials': 'declinable_sessions'\n",
    "    },\n",
    "    'false_rejection_rate': {\n",
    "        'successes': 'false_declines',\n",
    "        'trials': 'approvable_sessions'\n",
    "    },\n",
    "    'critical_error_rate': {\n",
    "        'successes': 'critical_error_sessions',\n",
    "        'trials': 'qa_reviewed'\n",
    "    },\n",
    "    'extraction_error_rate': {\n",
    "        'successes': 'extraction_error_sessions',\n",
    "        'trials': 'qa_reviewed'\n",
    "    },\n",
    "    # 'decision_error_rate': {\n",
    "    #     'successes': 'decision_error_sessions',\n",
    "    #     'trials': 'qa_reviewed'\n",
    "    # }\n",
    "}\n",
    "\n",
    "# 3. Define the dimensions for analysis\n",
    "test_dimension = 'has_video'\n",
    "\n",
    "dimensions = [\n",
    "    #['total'],\n",
    "    ['primary_product'],\n",
    "   # ['product_portfolio'],\n",
    "  #['primary_product', 'verification_session_tool_name']\n",
    "]\n",
    "\n",
    "# List to collect all results\n",
    "results_list = []\n",
    "\n",
    "# 4. Perform the analysis\n",
    "for dim in dimensions:\n",
    "    print(f\"===========================================================\")\n",
    "    print(f\"Analyzing by dimension: {', '.join(dim)}\")\n",
    "    print(f\"===========================================================\")\n",
    "    \n",
    "    # Group the data by the current dimension and has_video\n",
    "    grouped_data = df.groupby(dim + [test_dimension]).agg({\n",
    "        'missed_fraud_sessions': 'sum',\n",
    "        'fraud_sessions': 'sum',\n",
    "        'false_approves': 'sum',\n",
    "        'critical_error_sessions': 'sum',\n",
    "        'extraction_error_sessions': 'sum',\n",
    "        'decision_error_sessions': 'sum',\n",
    "        'declinable_sessions': 'sum',\n",
    "        'false_declines': 'sum',\n",
    "        'approvable_sessions': 'sum',\n",
    "        'qa_reviewed': 'sum'\n",
    "    }).reset_index()\n",
    "\n",
    "    # Iterate through each unique group within the dimension\n",
    "    for (group_name,), group_df in grouped_data.groupby(dim):\n",
    "        \n",
    "        # Check if both has_video groups exist\n",
    "        if len(group_df) < 2:\n",
    "            continue\n",
    "            \n",
    "        for metric_name, cols in metrics.items():\n",
    "            successes_col = cols['successes']\n",
    "            trials_col = cols['trials']\n",
    "            \n",
    "            # Extract data for the two groups\n",
    "            try:\n",
    "                x1 = group_df[group_df[test_dimension] == True][successes_col].iloc[0]\n",
    "                n1 = group_df[group_df[test_dimension] == True][trials_col].iloc[0]\n",
    "                x2 = group_df[group_df[test_dimension] == False][successes_col].iloc[0]\n",
    "                n2 = group_df[group_df[test_dimension] == False][trials_col].iloc[0]\n",
    "            except IndexError:\n",
    "                continue\n",
    "\n",
    "            # Ensure there are enough trials for the test\n",
    "            if n1 <= 0 or n2 <= 0:\n",
    "                continue\n",
    "\n",
    "            # Calculate rates\n",
    "            p1 = x1 / n1\n",
    "            p2 = x2 / n2\n",
    "            delta = p1 - p2\n",
    "\n",
    "            # Calculate error margins and confidence ranges for both groups\n",
    "            margin_1 = z_score * np.sqrt((p1 * (1 - p1)) / n1)\n",
    "            range_1 = f\"[{p1 - margin_1:.4f}, {p1 + margin_1:.4f}]\"\n",
    "\n",
    "            margin_2 = z_score * np.sqrt((p2 * (1 - p2)) / n2)\n",
    "            range_2 = f\"[{p2 - margin_2:.4f}, {p2 + margin_2:.4f}]\"\n",
    "\n",
    "            # Perform the Z-test for proportions\n",
    "            try:\n",
    "                stat, p_value = proportions_ztest([x1, x2], [n1, n2], alternative='two-sided')\n",
    "            except ZeroDivisionError:\n",
    "                stat, p_value = float('nan'), float('nan')\n",
    "\n",
    "            # Determine significance (alpha = 0.05)\n",
    "            is_significant = p_value < 0.05\n",
    "            \n",
    "            # Append results to the list\n",
    "            results_list.append({\n",
    "                'Dimension': ', '.join(dim),\n",
    "                'Group': group_name if isinstance(group_name, str) else str(group_name),\n",
    "                'Metric': metric_name,\n",
    "                'Delta': delta,\n",
    "                'P-Value': p_value,\n",
    "                'Significant': is_significant,\n",
    "                'Rate_has_video_True': p1,\n",
    "                'Rate_has_video_False': p2,\n",
    "                'Margin_has_video_True': margin_1,\n",
    "                'Range_has_video_True': range_1,\n",
    "                'Margin_has_video_False': margin_2,\n",
    "                'Range_has_video_False': range_2,\n",
    "                #'Z-Score': stat,\n",
    "            })\n",
    "\n",
    "# 5. Create a DataFrame from the results and save to a file\n",
    "if results_list:\n",
    "    results_df = pd.DataFrame(results_list)\n",
    "    results_df.to_csv('statistical_analysis_results.csv', index=False)\n",
    "    \n",
    "    print(\"-----------------------------------------------------------\")\n",
    "    print(\"Analysis complete. Results table:\")\n",
    "    print(\"-----------------------------------------------------------\")\n",
    "    print(results_df)\n",
    "    print(\"\\nResults have been saved to 'statistical_analysis_results.csv'.\")\n",
    "else:\n",
    "    print(\"No statistical tests were performed. Please check your data for valid groups.\")"
   ]
  },
  {
   "cell_type": "code",
   "execution_count": 179,
   "id": "c6f2b937",
   "metadata": {},
   "outputs": [
    {
     "name": "stdout",
     "output_type": "stream",
     "text": [
      "Results data loaded successfully.\n",
      "\n"
     ]
    },
    {
     "data": {
      "application/vnd.plotly.v1+json": {
       "config": {
        "plotlyServerURL": "https://plot.ly"
       },
       "data": [
        {
         "error_y": {
          "array": {
           "bdata": "AAAAAAAAAABBHnVseUeMPwAAAAAAAAAAwnWoMq1unz8=",
           "dtype": "f8"
          },
          "symmetric": true,
          "thickness": 2,
          "type": "data",
          "visible": true,
          "width": 5
         },
         "marker": {
          "color": "green",
          "size": 10,
          "symbol": [
           "circle",
           "circle",
           "circle",
           "circle"
          ]
         },
         "mode": "markers",
         "name": "has_video = True",
         "type": "scatter",
         "x": [
          "Biometric Authentication",
          "Biometric Passive Liveness",
          "Document Verification",
          "IDV"
         ],
         "y": {
          "bdata": "AAAAAAAAAAAxE0000USTPwAAAAAAAAAATwkBOT+VsD8=",
          "dtype": "f8"
         }
        },
        {
         "error_y": {
          "array": {
           "bdata": "AAAAAAAAAAAAAAAAAAAAAKnGAbwgdZU/4LwO5MvDnD8=",
           "dtype": "f8"
          },
          "symmetric": true,
          "thickness": 2,
          "type": "data",
          "visible": true,
          "width": 5
         },
         "marker": {
          "color": "salmon",
          "size": 10,
          "symbol": [
           "circle",
           "circle",
           "circle",
           "circle"
          ]
         },
         "mode": "markers",
         "name": "has_video = False",
         "type": "scatter",
         "x": [
          "Biometric Authentication",
          "Biometric Passive Liveness",
          "Document Verification",
          "IDV"
         ],
         "y": {
          "bdata": "AAAAAAAAAAAAAAAAAAAAAL7HshsPTrM/NAQpNxXNoz8=",
          "dtype": "f8"
         }
        },
        {
         "marker": {
          "color": "grey",
          "size": 10,
          "symbol": "star"
         },
         "mode": "markers",
         "name": "Significant",
         "type": "scatter",
         "x": [
          null
         ],
         "y": [
          null
         ]
        },
        {
         "marker": {
          "color": "grey",
          "size": 10,
          "symbol": "circle"
         },
         "mode": "markers",
         "name": "Not Significant",
         "type": "scatter",
         "x": [
          null
         ],
         "y": [
          null
         ]
        }
       ],
       "layout": {
        "font": {
         "size": 12
        },
        "height": 600,
        "legend": {
         "title": {
          "text": "Has Video?"
         }
        },
        "margin": {
         "b": 100,
         "l": 50,
         "r": 20,
         "t": 100
        },
        "template": {
         "data": {
          "bar": [
           {
            "error_x": {
             "color": "#2a3f5f"
            },
            "error_y": {
             "color": "#2a3f5f"
            },
            "marker": {
             "line": {
              "color": "#E5ECF6",
              "width": 0.5
             },
             "pattern": {
              "fillmode": "overlay",
              "size": 10,
              "solidity": 0.2
             }
            },
            "type": "bar"
           }
          ],
          "barpolar": [
           {
            "marker": {
             "line": {
              "color": "#E5ECF6",
              "width": 0.5
             },
             "pattern": {
              "fillmode": "overlay",
              "size": 10,
              "solidity": 0.2
             }
            },
            "type": "barpolar"
           }
          ],
          "carpet": [
           {
            "aaxis": {
             "endlinecolor": "#2a3f5f",
             "gridcolor": "white",
             "linecolor": "white",
             "minorgridcolor": "white",
             "startlinecolor": "#2a3f5f"
            },
            "baxis": {
             "endlinecolor": "#2a3f5f",
             "gridcolor": "white",
             "linecolor": "white",
             "minorgridcolor": "white",
             "startlinecolor": "#2a3f5f"
            },
            "type": "carpet"
           }
          ],
          "choropleth": [
           {
            "colorbar": {
             "outlinewidth": 0,
             "ticks": ""
            },
            "type": "choropleth"
           }
          ],
          "contour": [
           {
            "colorbar": {
             "outlinewidth": 0,
             "ticks": ""
            },
            "colorscale": [
             [
              0,
              "#0d0887"
             ],
             [
              0.1111111111111111,
              "#46039f"
             ],
             [
              0.2222222222222222,
              "#7201a8"
             ],
             [
              0.3333333333333333,
              "#9c179e"
             ],
             [
              0.4444444444444444,
              "#bd3786"
             ],
             [
              0.5555555555555556,
              "#d8576b"
             ],
             [
              0.6666666666666666,
              "#ed7953"
             ],
             [
              0.7777777777777778,
              "#fb9f3a"
             ],
             [
              0.8888888888888888,
              "#fdca26"
             ],
             [
              1,
              "#f0f921"
             ]
            ],
            "type": "contour"
           }
          ],
          "contourcarpet": [
           {
            "colorbar": {
             "outlinewidth": 0,
             "ticks": ""
            },
            "type": "contourcarpet"
           }
          ],
          "heatmap": [
           {
            "colorbar": {
             "outlinewidth": 0,
             "ticks": ""
            },
            "colorscale": [
             [
              0,
              "#0d0887"
             ],
             [
              0.1111111111111111,
              "#46039f"
             ],
             [
              0.2222222222222222,
              "#7201a8"
             ],
             [
              0.3333333333333333,
              "#9c179e"
             ],
             [
              0.4444444444444444,
              "#bd3786"
             ],
             [
              0.5555555555555556,
              "#d8576b"
             ],
             [
              0.6666666666666666,
              "#ed7953"
             ],
             [
              0.7777777777777778,
              "#fb9f3a"
             ],
             [
              0.8888888888888888,
              "#fdca26"
             ],
             [
              1,
              "#f0f921"
             ]
            ],
            "type": "heatmap"
           }
          ],
          "histogram": [
           {
            "marker": {
             "pattern": {
              "fillmode": "overlay",
              "size": 10,
              "solidity": 0.2
             }
            },
            "type": "histogram"
           }
          ],
          "histogram2d": [
           {
            "colorbar": {
             "outlinewidth": 0,
             "ticks": ""
            },
            "colorscale": [
             [
              0,
              "#0d0887"
             ],
             [
              0.1111111111111111,
              "#46039f"
             ],
             [
              0.2222222222222222,
              "#7201a8"
             ],
             [
              0.3333333333333333,
              "#9c179e"
             ],
             [
              0.4444444444444444,
              "#bd3786"
             ],
             [
              0.5555555555555556,
              "#d8576b"
             ],
             [
              0.6666666666666666,
              "#ed7953"
             ],
             [
              0.7777777777777778,
              "#fb9f3a"
             ],
             [
              0.8888888888888888,
              "#fdca26"
             ],
             [
              1,
              "#f0f921"
             ]
            ],
            "type": "histogram2d"
           }
          ],
          "histogram2dcontour": [
           {
            "colorbar": {
             "outlinewidth": 0,
             "ticks": ""
            },
            "colorscale": [
             [
              0,
              "#0d0887"
             ],
             [
              0.1111111111111111,
              "#46039f"
             ],
             [
              0.2222222222222222,
              "#7201a8"
             ],
             [
              0.3333333333333333,
              "#9c179e"
             ],
             [
              0.4444444444444444,
              "#bd3786"
             ],
             [
              0.5555555555555556,
              "#d8576b"
             ],
             [
              0.6666666666666666,
              "#ed7953"
             ],
             [
              0.7777777777777778,
              "#fb9f3a"
             ],
             [
              0.8888888888888888,
              "#fdca26"
             ],
             [
              1,
              "#f0f921"
             ]
            ],
            "type": "histogram2dcontour"
           }
          ],
          "mesh3d": [
           {
            "colorbar": {
             "outlinewidth": 0,
             "ticks": ""
            },
            "type": "mesh3d"
           }
          ],
          "parcoords": [
           {
            "line": {
             "colorbar": {
              "outlinewidth": 0,
              "ticks": ""
             }
            },
            "type": "parcoords"
           }
          ],
          "pie": [
           {
            "automargin": true,
            "type": "pie"
           }
          ],
          "scatter": [
           {
            "fillpattern": {
             "fillmode": "overlay",
             "size": 10,
             "solidity": 0.2
            },
            "type": "scatter"
           }
          ],
          "scatter3d": [
           {
            "line": {
             "colorbar": {
              "outlinewidth": 0,
              "ticks": ""
             }
            },
            "marker": {
             "colorbar": {
              "outlinewidth": 0,
              "ticks": ""
             }
            },
            "type": "scatter3d"
           }
          ],
          "scattercarpet": [
           {
            "marker": {
             "colorbar": {
              "outlinewidth": 0,
              "ticks": ""
             }
            },
            "type": "scattercarpet"
           }
          ],
          "scattergeo": [
           {
            "marker": {
             "colorbar": {
              "outlinewidth": 0,
              "ticks": ""
             }
            },
            "type": "scattergeo"
           }
          ],
          "scattergl": [
           {
            "marker": {
             "colorbar": {
              "outlinewidth": 0,
              "ticks": ""
             }
            },
            "type": "scattergl"
           }
          ],
          "scattermap": [
           {
            "marker": {
             "colorbar": {
              "outlinewidth": 0,
              "ticks": ""
             }
            },
            "type": "scattermap"
           }
          ],
          "scattermapbox": [
           {
            "marker": {
             "colorbar": {
              "outlinewidth": 0,
              "ticks": ""
             }
            },
            "type": "scattermapbox"
           }
          ],
          "scatterpolar": [
           {
            "marker": {
             "colorbar": {
              "outlinewidth": 0,
              "ticks": ""
             }
            },
            "type": "scatterpolar"
           }
          ],
          "scatterpolargl": [
           {
            "marker": {
             "colorbar": {
              "outlinewidth": 0,
              "ticks": ""
             }
            },
            "type": "scatterpolargl"
           }
          ],
          "scatterternary": [
           {
            "marker": {
             "colorbar": {
              "outlinewidth": 0,
              "ticks": ""
             }
            },
            "type": "scatterternary"
           }
          ],
          "surface": [
           {
            "colorbar": {
             "outlinewidth": 0,
             "ticks": ""
            },
            "colorscale": [
             [
              0,
              "#0d0887"
             ],
             [
              0.1111111111111111,
              "#46039f"
             ],
             [
              0.2222222222222222,
              "#7201a8"
             ],
             [
              0.3333333333333333,
              "#9c179e"
             ],
             [
              0.4444444444444444,
              "#bd3786"
             ],
             [
              0.5555555555555556,
              "#d8576b"
             ],
             [
              0.6666666666666666,
              "#ed7953"
             ],
             [
              0.7777777777777778,
              "#fb9f3a"
             ],
             [
              0.8888888888888888,
              "#fdca26"
             ],
             [
              1,
              "#f0f921"
             ]
            ],
            "type": "surface"
           }
          ],
          "table": [
           {
            "cells": {
             "fill": {
              "color": "#EBF0F8"
             },
             "line": {
              "color": "white"
             }
            },
            "header": {
             "fill": {
              "color": "#C8D4E3"
             },
             "line": {
              "color": "white"
             }
            },
            "type": "table"
           }
          ]
         },
         "layout": {
          "annotationdefaults": {
           "arrowcolor": "#2a3f5f",
           "arrowhead": 0,
           "arrowwidth": 1
          },
          "autotypenumbers": "strict",
          "coloraxis": {
           "colorbar": {
            "outlinewidth": 0,
            "ticks": ""
           }
          },
          "colorscale": {
           "diverging": [
            [
             0,
             "#8e0152"
            ],
            [
             0.1,
             "#c51b7d"
            ],
            [
             0.2,
             "#de77ae"
            ],
            [
             0.3,
             "#f1b6da"
            ],
            [
             0.4,
             "#fde0ef"
            ],
            [
             0.5,
             "#f7f7f7"
            ],
            [
             0.6,
             "#e6f5d0"
            ],
            [
             0.7,
             "#b8e186"
            ],
            [
             0.8,
             "#7fbc41"
            ],
            [
             0.9,
             "#4d9221"
            ],
            [
             1,
             "#276419"
            ]
           ],
           "sequential": [
            [
             0,
             "#0d0887"
            ],
            [
             0.1111111111111111,
             "#46039f"
            ],
            [
             0.2222222222222222,
             "#7201a8"
            ],
            [
             0.3333333333333333,
             "#9c179e"
            ],
            [
             0.4444444444444444,
             "#bd3786"
            ],
            [
             0.5555555555555556,
             "#d8576b"
            ],
            [
             0.6666666666666666,
             "#ed7953"
            ],
            [
             0.7777777777777778,
             "#fb9f3a"
            ],
            [
             0.8888888888888888,
             "#fdca26"
            ],
            [
             1,
             "#f0f921"
            ]
           ],
           "sequentialminus": [
            [
             0,
             "#0d0887"
            ],
            [
             0.1111111111111111,
             "#46039f"
            ],
            [
             0.2222222222222222,
             "#7201a8"
            ],
            [
             0.3333333333333333,
             "#9c179e"
            ],
            [
             0.4444444444444444,
             "#bd3786"
            ],
            [
             0.5555555555555556,
             "#d8576b"
            ],
            [
             0.6666666666666666,
             "#ed7953"
            ],
            [
             0.7777777777777778,
             "#fb9f3a"
            ],
            [
             0.8888888888888888,
             "#fdca26"
            ],
            [
             1,
             "#f0f921"
            ]
           ]
          },
          "colorway": [
           "#636efa",
           "#EF553B",
           "#00cc96",
           "#ab63fa",
           "#FFA15A",
           "#19d3f3",
           "#FF6692",
           "#B6E880",
           "#FF97FF",
           "#FECB52"
          ],
          "font": {
           "color": "#2a3f5f"
          },
          "geo": {
           "bgcolor": "white",
           "lakecolor": "white",
           "landcolor": "#E5ECF6",
           "showlakes": true,
           "showland": true,
           "subunitcolor": "white"
          },
          "hoverlabel": {
           "align": "left"
          },
          "hovermode": "closest",
          "mapbox": {
           "style": "light"
          },
          "paper_bgcolor": "white",
          "plot_bgcolor": "#E5ECF6",
          "polar": {
           "angularaxis": {
            "gridcolor": "white",
            "linecolor": "white",
            "ticks": ""
           },
           "bgcolor": "#E5ECF6",
           "radialaxis": {
            "gridcolor": "white",
            "linecolor": "white",
            "ticks": ""
           }
          },
          "scene": {
           "xaxis": {
            "backgroundcolor": "#E5ECF6",
            "gridcolor": "white",
            "gridwidth": 2,
            "linecolor": "white",
            "showbackground": true,
            "ticks": "",
            "zerolinecolor": "white"
           },
           "yaxis": {
            "backgroundcolor": "#E5ECF6",
            "gridcolor": "white",
            "gridwidth": 2,
            "linecolor": "white",
            "showbackground": true,
            "ticks": "",
            "zerolinecolor": "white"
           },
           "zaxis": {
            "backgroundcolor": "#E5ECF6",
            "gridcolor": "white",
            "gridwidth": 2,
            "linecolor": "white",
            "showbackground": true,
            "ticks": "",
            "zerolinecolor": "white"
           }
          },
          "shapedefaults": {
           "line": {
            "color": "#2a3f5f"
           }
          },
          "ternary": {
           "aaxis": {
            "gridcolor": "white",
            "linecolor": "white",
            "ticks": ""
           },
           "baxis": {
            "gridcolor": "white",
            "linecolor": "white",
            "ticks": ""
           },
           "bgcolor": "#E5ECF6",
           "caxis": {
            "gridcolor": "white",
            "linecolor": "white",
            "ticks": ""
           }
          },
          "title": {
           "x": 0.05
          },
          "xaxis": {
           "automargin": true,
           "gridcolor": "white",
           "linecolor": "white",
           "ticks": "",
           "title": {
            "standoff": 15
           },
           "zerolinecolor": "white",
           "zerolinewidth": 2
          },
          "yaxis": {
           "automargin": true,
           "gridcolor": "white",
           "linecolor": "white",
           "ticks": "",
           "title": {
            "standoff": 15
           },
           "zerolinecolor": "white",
           "zerolinewidth": 2
          }
         }
        },
        "title": {
         "text": "Metric: missed_fraud_rate with 95% Confidence Intervals"
        },
        "width": 800,
        "xaxis": {
         "title": {
          "text": "Dimension Group"
         }
        },
        "yaxis": {
         "title": {
          "text": "Rate"
         }
        }
       }
      }
     },
     "metadata": {},
     "output_type": "display_data"
    },
    {
     "data": {
      "application/vnd.plotly.v1+json": {
       "config": {
        "plotlyServerURL": "https://plot.ly"
       },
       "data": [
        {
         "error_y": {
          "array": {
           "bdata": "AAAAAAAAAAC8XQgs30KOPwAAAAAAAAAA25V4k43VoD8=",
           "dtype": "f8"
          },
          "symmetric": true,
          "thickness": 2,
          "type": "data",
          "visible": true,
          "width": 5
         },
         "marker": {
          "color": "green",
          "size": 10,
          "symbol": [
           "circle",
           "circle",
           "circle",
           "circle"
          ]
         },
         "mode": "markers",
         "name": "has_video = True",
         "type": "scatter",
         "x": [
          "Biometric Authentication",
          "Biometric Passive Liveness",
          "Document Verification",
          "IDV"
         ],
         "y": {
          "bdata": "AAAAAAAAAADqzKL3e0mqPwAAAAAAAAAAlLvgr+KEtD8=",
          "dtype": "f8"
         }
        },
        {
         "error_y": {
          "array": {
           "bdata": "AAAAAAAAAAAAAAAAAAAAAAHXI5TAcZU/uQc2zUXYoj8=",
           "dtype": "f8"
          },
          "symmetric": true,
          "thickness": 2,
          "type": "data",
          "visible": true,
          "width": 5
         },
         "marker": {
          "color": "salmon",
          "size": 10,
          "symbol": [
           "circle",
           "circle",
           "circle",
           "circle"
          ]
         },
         "mode": "markers",
         "name": "has_video = False",
         "type": "scatter",
         "x": [
          "Biometric Authentication",
          "Biometric Passive Liveness",
          "Document Verification",
          "IDV"
         ],
         "y": {
          "bdata": "AAAAAAAAAAAAAAAAAAAAAJVKTCWmErM/cvVN8v46uD8=",
          "dtype": "f8"
         }
        },
        {
         "marker": {
          "color": "grey",
          "size": 10,
          "symbol": "star"
         },
         "mode": "markers",
         "name": "Significant",
         "type": "scatter",
         "x": [
          null
         ],
         "y": [
          null
         ]
        },
        {
         "marker": {
          "color": "grey",
          "size": 10,
          "symbol": "circle"
         },
         "mode": "markers",
         "name": "Not Significant",
         "type": "scatter",
         "x": [
          null
         ],
         "y": [
          null
         ]
        }
       ],
       "layout": {
        "font": {
         "size": 12
        },
        "height": 600,
        "legend": {
         "title": {
          "text": "Has Video?"
         }
        },
        "margin": {
         "b": 100,
         "l": 50,
         "r": 20,
         "t": 100
        },
        "template": {
         "data": {
          "bar": [
           {
            "error_x": {
             "color": "#2a3f5f"
            },
            "error_y": {
             "color": "#2a3f5f"
            },
            "marker": {
             "line": {
              "color": "#E5ECF6",
              "width": 0.5
             },
             "pattern": {
              "fillmode": "overlay",
              "size": 10,
              "solidity": 0.2
             }
            },
            "type": "bar"
           }
          ],
          "barpolar": [
           {
            "marker": {
             "line": {
              "color": "#E5ECF6",
              "width": 0.5
             },
             "pattern": {
              "fillmode": "overlay",
              "size": 10,
              "solidity": 0.2
             }
            },
            "type": "barpolar"
           }
          ],
          "carpet": [
           {
            "aaxis": {
             "endlinecolor": "#2a3f5f",
             "gridcolor": "white",
             "linecolor": "white",
             "minorgridcolor": "white",
             "startlinecolor": "#2a3f5f"
            },
            "baxis": {
             "endlinecolor": "#2a3f5f",
             "gridcolor": "white",
             "linecolor": "white",
             "minorgridcolor": "white",
             "startlinecolor": "#2a3f5f"
            },
            "type": "carpet"
           }
          ],
          "choropleth": [
           {
            "colorbar": {
             "outlinewidth": 0,
             "ticks": ""
            },
            "type": "choropleth"
           }
          ],
          "contour": [
           {
            "colorbar": {
             "outlinewidth": 0,
             "ticks": ""
            },
            "colorscale": [
             [
              0,
              "#0d0887"
             ],
             [
              0.1111111111111111,
              "#46039f"
             ],
             [
              0.2222222222222222,
              "#7201a8"
             ],
             [
              0.3333333333333333,
              "#9c179e"
             ],
             [
              0.4444444444444444,
              "#bd3786"
             ],
             [
              0.5555555555555556,
              "#d8576b"
             ],
             [
              0.6666666666666666,
              "#ed7953"
             ],
             [
              0.7777777777777778,
              "#fb9f3a"
             ],
             [
              0.8888888888888888,
              "#fdca26"
             ],
             [
              1,
              "#f0f921"
             ]
            ],
            "type": "contour"
           }
          ],
          "contourcarpet": [
           {
            "colorbar": {
             "outlinewidth": 0,
             "ticks": ""
            },
            "type": "contourcarpet"
           }
          ],
          "heatmap": [
           {
            "colorbar": {
             "outlinewidth": 0,
             "ticks": ""
            },
            "colorscale": [
             [
              0,
              "#0d0887"
             ],
             [
              0.1111111111111111,
              "#46039f"
             ],
             [
              0.2222222222222222,
              "#7201a8"
             ],
             [
              0.3333333333333333,
              "#9c179e"
             ],
             [
              0.4444444444444444,
              "#bd3786"
             ],
             [
              0.5555555555555556,
              "#d8576b"
             ],
             [
              0.6666666666666666,
              "#ed7953"
             ],
             [
              0.7777777777777778,
              "#fb9f3a"
             ],
             [
              0.8888888888888888,
              "#fdca26"
             ],
             [
              1,
              "#f0f921"
             ]
            ],
            "type": "heatmap"
           }
          ],
          "histogram": [
           {
            "marker": {
             "pattern": {
              "fillmode": "overlay",
              "size": 10,
              "solidity": 0.2
             }
            },
            "type": "histogram"
           }
          ],
          "histogram2d": [
           {
            "colorbar": {
             "outlinewidth": 0,
             "ticks": ""
            },
            "colorscale": [
             [
              0,
              "#0d0887"
             ],
             [
              0.1111111111111111,
              "#46039f"
             ],
             [
              0.2222222222222222,
              "#7201a8"
             ],
             [
              0.3333333333333333,
              "#9c179e"
             ],
             [
              0.4444444444444444,
              "#bd3786"
             ],
             [
              0.5555555555555556,
              "#d8576b"
             ],
             [
              0.6666666666666666,
              "#ed7953"
             ],
             [
              0.7777777777777778,
              "#fb9f3a"
             ],
             [
              0.8888888888888888,
              "#fdca26"
             ],
             [
              1,
              "#f0f921"
             ]
            ],
            "type": "histogram2d"
           }
          ],
          "histogram2dcontour": [
           {
            "colorbar": {
             "outlinewidth": 0,
             "ticks": ""
            },
            "colorscale": [
             [
              0,
              "#0d0887"
             ],
             [
              0.1111111111111111,
              "#46039f"
             ],
             [
              0.2222222222222222,
              "#7201a8"
             ],
             [
              0.3333333333333333,
              "#9c179e"
             ],
             [
              0.4444444444444444,
              "#bd3786"
             ],
             [
              0.5555555555555556,
              "#d8576b"
             ],
             [
              0.6666666666666666,
              "#ed7953"
             ],
             [
              0.7777777777777778,
              "#fb9f3a"
             ],
             [
              0.8888888888888888,
              "#fdca26"
             ],
             [
              1,
              "#f0f921"
             ]
            ],
            "type": "histogram2dcontour"
           }
          ],
          "mesh3d": [
           {
            "colorbar": {
             "outlinewidth": 0,
             "ticks": ""
            },
            "type": "mesh3d"
           }
          ],
          "parcoords": [
           {
            "line": {
             "colorbar": {
              "outlinewidth": 0,
              "ticks": ""
             }
            },
            "type": "parcoords"
           }
          ],
          "pie": [
           {
            "automargin": true,
            "type": "pie"
           }
          ],
          "scatter": [
           {
            "fillpattern": {
             "fillmode": "overlay",
             "size": 10,
             "solidity": 0.2
            },
            "type": "scatter"
           }
          ],
          "scatter3d": [
           {
            "line": {
             "colorbar": {
              "outlinewidth": 0,
              "ticks": ""
             }
            },
            "marker": {
             "colorbar": {
              "outlinewidth": 0,
              "ticks": ""
             }
            },
            "type": "scatter3d"
           }
          ],
          "scattercarpet": [
           {
            "marker": {
             "colorbar": {
              "outlinewidth": 0,
              "ticks": ""
             }
            },
            "type": "scattercarpet"
           }
          ],
          "scattergeo": [
           {
            "marker": {
             "colorbar": {
              "outlinewidth": 0,
              "ticks": ""
             }
            },
            "type": "scattergeo"
           }
          ],
          "scattergl": [
           {
            "marker": {
             "colorbar": {
              "outlinewidth": 0,
              "ticks": ""
             }
            },
            "type": "scattergl"
           }
          ],
          "scattermap": [
           {
            "marker": {
             "colorbar": {
              "outlinewidth": 0,
              "ticks": ""
             }
            },
            "type": "scattermap"
           }
          ],
          "scattermapbox": [
           {
            "marker": {
             "colorbar": {
              "outlinewidth": 0,
              "ticks": ""
             }
            },
            "type": "scattermapbox"
           }
          ],
          "scatterpolar": [
           {
            "marker": {
             "colorbar": {
              "outlinewidth": 0,
              "ticks": ""
             }
            },
            "type": "scatterpolar"
           }
          ],
          "scatterpolargl": [
           {
            "marker": {
             "colorbar": {
              "outlinewidth": 0,
              "ticks": ""
             }
            },
            "type": "scatterpolargl"
           }
          ],
          "scatterternary": [
           {
            "marker": {
             "colorbar": {
              "outlinewidth": 0,
              "ticks": ""
             }
            },
            "type": "scatterternary"
           }
          ],
          "surface": [
           {
            "colorbar": {
             "outlinewidth": 0,
             "ticks": ""
            },
            "colorscale": [
             [
              0,
              "#0d0887"
             ],
             [
              0.1111111111111111,
              "#46039f"
             ],
             [
              0.2222222222222222,
              "#7201a8"
             ],
             [
              0.3333333333333333,
              "#9c179e"
             ],
             [
              0.4444444444444444,
              "#bd3786"
             ],
             [
              0.5555555555555556,
              "#d8576b"
             ],
             [
              0.6666666666666666,
              "#ed7953"
             ],
             [
              0.7777777777777778,
              "#fb9f3a"
             ],
             [
              0.8888888888888888,
              "#fdca26"
             ],
             [
              1,
              "#f0f921"
             ]
            ],
            "type": "surface"
           }
          ],
          "table": [
           {
            "cells": {
             "fill": {
              "color": "#EBF0F8"
             },
             "line": {
              "color": "white"
             }
            },
            "header": {
             "fill": {
              "color": "#C8D4E3"
             },
             "line": {
              "color": "white"
             }
            },
            "type": "table"
           }
          ]
         },
         "layout": {
          "annotationdefaults": {
           "arrowcolor": "#2a3f5f",
           "arrowhead": 0,
           "arrowwidth": 1
          },
          "autotypenumbers": "strict",
          "coloraxis": {
           "colorbar": {
            "outlinewidth": 0,
            "ticks": ""
           }
          },
          "colorscale": {
           "diverging": [
            [
             0,
             "#8e0152"
            ],
            [
             0.1,
             "#c51b7d"
            ],
            [
             0.2,
             "#de77ae"
            ],
            [
             0.3,
             "#f1b6da"
            ],
            [
             0.4,
             "#fde0ef"
            ],
            [
             0.5,
             "#f7f7f7"
            ],
            [
             0.6,
             "#e6f5d0"
            ],
            [
             0.7,
             "#b8e186"
            ],
            [
             0.8,
             "#7fbc41"
            ],
            [
             0.9,
             "#4d9221"
            ],
            [
             1,
             "#276419"
            ]
           ],
           "sequential": [
            [
             0,
             "#0d0887"
            ],
            [
             0.1111111111111111,
             "#46039f"
            ],
            [
             0.2222222222222222,
             "#7201a8"
            ],
            [
             0.3333333333333333,
             "#9c179e"
            ],
            [
             0.4444444444444444,
             "#bd3786"
            ],
            [
             0.5555555555555556,
             "#d8576b"
            ],
            [
             0.6666666666666666,
             "#ed7953"
            ],
            [
             0.7777777777777778,
             "#fb9f3a"
            ],
            [
             0.8888888888888888,
             "#fdca26"
            ],
            [
             1,
             "#f0f921"
            ]
           ],
           "sequentialminus": [
            [
             0,
             "#0d0887"
            ],
            [
             0.1111111111111111,
             "#46039f"
            ],
            [
             0.2222222222222222,
             "#7201a8"
            ],
            [
             0.3333333333333333,
             "#9c179e"
            ],
            [
             0.4444444444444444,
             "#bd3786"
            ],
            [
             0.5555555555555556,
             "#d8576b"
            ],
            [
             0.6666666666666666,
             "#ed7953"
            ],
            [
             0.7777777777777778,
             "#fb9f3a"
            ],
            [
             0.8888888888888888,
             "#fdca26"
            ],
            [
             1,
             "#f0f921"
            ]
           ]
          },
          "colorway": [
           "#636efa",
           "#EF553B",
           "#00cc96",
           "#ab63fa",
           "#FFA15A",
           "#19d3f3",
           "#FF6692",
           "#B6E880",
           "#FF97FF",
           "#FECB52"
          ],
          "font": {
           "color": "#2a3f5f"
          },
          "geo": {
           "bgcolor": "white",
           "lakecolor": "white",
           "landcolor": "#E5ECF6",
           "showlakes": true,
           "showland": true,
           "subunitcolor": "white"
          },
          "hoverlabel": {
           "align": "left"
          },
          "hovermode": "closest",
          "mapbox": {
           "style": "light"
          },
          "paper_bgcolor": "white",
          "plot_bgcolor": "#E5ECF6",
          "polar": {
           "angularaxis": {
            "gridcolor": "white",
            "linecolor": "white",
            "ticks": ""
           },
           "bgcolor": "#E5ECF6",
           "radialaxis": {
            "gridcolor": "white",
            "linecolor": "white",
            "ticks": ""
           }
          },
          "scene": {
           "xaxis": {
            "backgroundcolor": "#E5ECF6",
            "gridcolor": "white",
            "gridwidth": 2,
            "linecolor": "white",
            "showbackground": true,
            "ticks": "",
            "zerolinecolor": "white"
           },
           "yaxis": {
            "backgroundcolor": "#E5ECF6",
            "gridcolor": "white",
            "gridwidth": 2,
            "linecolor": "white",
            "showbackground": true,
            "ticks": "",
            "zerolinecolor": "white"
           },
           "zaxis": {
            "backgroundcolor": "#E5ECF6",
            "gridcolor": "white",
            "gridwidth": 2,
            "linecolor": "white",
            "showbackground": true,
            "ticks": "",
            "zerolinecolor": "white"
           }
          },
          "shapedefaults": {
           "line": {
            "color": "#2a3f5f"
           }
          },
          "ternary": {
           "aaxis": {
            "gridcolor": "white",
            "linecolor": "white",
            "ticks": ""
           },
           "baxis": {
            "gridcolor": "white",
            "linecolor": "white",
            "ticks": ""
           },
           "bgcolor": "#E5ECF6",
           "caxis": {
            "gridcolor": "white",
            "linecolor": "white",
            "ticks": ""
           }
          },
          "title": {
           "x": 0.05
          },
          "xaxis": {
           "automargin": true,
           "gridcolor": "white",
           "linecolor": "white",
           "ticks": "",
           "title": {
            "standoff": 15
           },
           "zerolinecolor": "white",
           "zerolinewidth": 2
          },
          "yaxis": {
           "automargin": true,
           "gridcolor": "white",
           "linecolor": "white",
           "ticks": "",
           "title": {
            "standoff": 15
           },
           "zerolinecolor": "white",
           "zerolinewidth": 2
          }
         }
        },
        "title": {
         "text": "Metric: false_approve_rate with 95% Confidence Intervals"
        },
        "width": 800,
        "xaxis": {
         "title": {
          "text": "Dimension Group"
         }
        },
        "yaxis": {
         "title": {
          "text": "Rate"
         }
        }
       }
      }
     },
     "metadata": {},
     "output_type": "display_data"
    },
    {
     "data": {
      "application/vnd.plotly.v1+json": {
       "config": {
        "plotlyServerURL": "https://plot.ly"
       },
       "data": [
        {
         "error_y": {
          "array": {
           "bdata": "AAAAAAAAAAC9LpfgQjlcP3SId88w2YU/sdWZl2Bpaj8=",
           "dtype": "f8"
          },
          "symmetric": true,
          "thickness": 2,
          "type": "data",
          "visible": true,
          "width": 5
         },
         "marker": {
          "color": "green",
          "size": 10,
          "symbol": [
           "circle",
           "circle",
           "circle",
           "circle"
          ]
         },
         "mode": "markers",
         "name": "has_video = True",
         "type": "scatter",
         "x": [
          "Biometric Authentication",
          "Biometric Passive Liveness",
          "Document Verification",
          "IDV"
         ],
         "y": {
          "bdata": "AAAAAAAAAAAfegiBxcxmP4Yz2j1sfYs/vZkQjwbgez8=",
          "dtype": "f8"
         }
        },
        {
         "error_y": {
          "array": {
           "bdata": "cbvIvUoAsT8AAAAAAAAAAIwv5gqoWl4/vkYSBOgBaz8=",
           "dtype": "f8"
          },
          "symmetric": true,
          "thickness": 2,
          "type": "data",
          "visible": true,
          "width": 5
         },
         "marker": {
          "color": "salmon",
          "size": 10,
          "symbol": [
           "circle",
           "circle",
           "circle",
           "circle"
          ]
         },
         "mode": "markers",
         "name": "has_video = False",
         "type": "scatter",
         "x": [
          "Biometric Authentication",
          "Biometric Passive Liveness",
          "Document Verification",
          "IDV"
         ],
         "y": {
          "bdata": "jnsaYbmnoT8AAAAAAAAAAJsovyGumX4/f+Lsw2fYdT8=",
          "dtype": "f8"
         }
        },
        {
         "marker": {
          "color": "grey",
          "size": 10,
          "symbol": "star"
         },
         "mode": "markers",
         "name": "Significant",
         "type": "scatter",
         "x": [
          null
         ],
         "y": [
          null
         ]
        },
        {
         "marker": {
          "color": "grey",
          "size": 10,
          "symbol": "circle"
         },
         "mode": "markers",
         "name": "Not Significant",
         "type": "scatter",
         "x": [
          null
         ],
         "y": [
          null
         ]
        }
       ],
       "layout": {
        "font": {
         "size": 12
        },
        "height": 600,
        "legend": {
         "title": {
          "text": "Has Video?"
         }
        },
        "margin": {
         "b": 100,
         "l": 50,
         "r": 20,
         "t": 100
        },
        "template": {
         "data": {
          "bar": [
           {
            "error_x": {
             "color": "#2a3f5f"
            },
            "error_y": {
             "color": "#2a3f5f"
            },
            "marker": {
             "line": {
              "color": "#E5ECF6",
              "width": 0.5
             },
             "pattern": {
              "fillmode": "overlay",
              "size": 10,
              "solidity": 0.2
             }
            },
            "type": "bar"
           }
          ],
          "barpolar": [
           {
            "marker": {
             "line": {
              "color": "#E5ECF6",
              "width": 0.5
             },
             "pattern": {
              "fillmode": "overlay",
              "size": 10,
              "solidity": 0.2
             }
            },
            "type": "barpolar"
           }
          ],
          "carpet": [
           {
            "aaxis": {
             "endlinecolor": "#2a3f5f",
             "gridcolor": "white",
             "linecolor": "white",
             "minorgridcolor": "white",
             "startlinecolor": "#2a3f5f"
            },
            "baxis": {
             "endlinecolor": "#2a3f5f",
             "gridcolor": "white",
             "linecolor": "white",
             "minorgridcolor": "white",
             "startlinecolor": "#2a3f5f"
            },
            "type": "carpet"
           }
          ],
          "choropleth": [
           {
            "colorbar": {
             "outlinewidth": 0,
             "ticks": ""
            },
            "type": "choropleth"
           }
          ],
          "contour": [
           {
            "colorbar": {
             "outlinewidth": 0,
             "ticks": ""
            },
            "colorscale": [
             [
              0,
              "#0d0887"
             ],
             [
              0.1111111111111111,
              "#46039f"
             ],
             [
              0.2222222222222222,
              "#7201a8"
             ],
             [
              0.3333333333333333,
              "#9c179e"
             ],
             [
              0.4444444444444444,
              "#bd3786"
             ],
             [
              0.5555555555555556,
              "#d8576b"
             ],
             [
              0.6666666666666666,
              "#ed7953"
             ],
             [
              0.7777777777777778,
              "#fb9f3a"
             ],
             [
              0.8888888888888888,
              "#fdca26"
             ],
             [
              1,
              "#f0f921"
             ]
            ],
            "type": "contour"
           }
          ],
          "contourcarpet": [
           {
            "colorbar": {
             "outlinewidth": 0,
             "ticks": ""
            },
            "type": "contourcarpet"
           }
          ],
          "heatmap": [
           {
            "colorbar": {
             "outlinewidth": 0,
             "ticks": ""
            },
            "colorscale": [
             [
              0,
              "#0d0887"
             ],
             [
              0.1111111111111111,
              "#46039f"
             ],
             [
              0.2222222222222222,
              "#7201a8"
             ],
             [
              0.3333333333333333,
              "#9c179e"
             ],
             [
              0.4444444444444444,
              "#bd3786"
             ],
             [
              0.5555555555555556,
              "#d8576b"
             ],
             [
              0.6666666666666666,
              "#ed7953"
             ],
             [
              0.7777777777777778,
              "#fb9f3a"
             ],
             [
              0.8888888888888888,
              "#fdca26"
             ],
             [
              1,
              "#f0f921"
             ]
            ],
            "type": "heatmap"
           }
          ],
          "histogram": [
           {
            "marker": {
             "pattern": {
              "fillmode": "overlay",
              "size": 10,
              "solidity": 0.2
             }
            },
            "type": "histogram"
           }
          ],
          "histogram2d": [
           {
            "colorbar": {
             "outlinewidth": 0,
             "ticks": ""
            },
            "colorscale": [
             [
              0,
              "#0d0887"
             ],
             [
              0.1111111111111111,
              "#46039f"
             ],
             [
              0.2222222222222222,
              "#7201a8"
             ],
             [
              0.3333333333333333,
              "#9c179e"
             ],
             [
              0.4444444444444444,
              "#bd3786"
             ],
             [
              0.5555555555555556,
              "#d8576b"
             ],
             [
              0.6666666666666666,
              "#ed7953"
             ],
             [
              0.7777777777777778,
              "#fb9f3a"
             ],
             [
              0.8888888888888888,
              "#fdca26"
             ],
             [
              1,
              "#f0f921"
             ]
            ],
            "type": "histogram2d"
           }
          ],
          "histogram2dcontour": [
           {
            "colorbar": {
             "outlinewidth": 0,
             "ticks": ""
            },
            "colorscale": [
             [
              0,
              "#0d0887"
             ],
             [
              0.1111111111111111,
              "#46039f"
             ],
             [
              0.2222222222222222,
              "#7201a8"
             ],
             [
              0.3333333333333333,
              "#9c179e"
             ],
             [
              0.4444444444444444,
              "#bd3786"
             ],
             [
              0.5555555555555556,
              "#d8576b"
             ],
             [
              0.6666666666666666,
              "#ed7953"
             ],
             [
              0.7777777777777778,
              "#fb9f3a"
             ],
             [
              0.8888888888888888,
              "#fdca26"
             ],
             [
              1,
              "#f0f921"
             ]
            ],
            "type": "histogram2dcontour"
           }
          ],
          "mesh3d": [
           {
            "colorbar": {
             "outlinewidth": 0,
             "ticks": ""
            },
            "type": "mesh3d"
           }
          ],
          "parcoords": [
           {
            "line": {
             "colorbar": {
              "outlinewidth": 0,
              "ticks": ""
             }
            },
            "type": "parcoords"
           }
          ],
          "pie": [
           {
            "automargin": true,
            "type": "pie"
           }
          ],
          "scatter": [
           {
            "fillpattern": {
             "fillmode": "overlay",
             "size": 10,
             "solidity": 0.2
            },
            "type": "scatter"
           }
          ],
          "scatter3d": [
           {
            "line": {
             "colorbar": {
              "outlinewidth": 0,
              "ticks": ""
             }
            },
            "marker": {
             "colorbar": {
              "outlinewidth": 0,
              "ticks": ""
             }
            },
            "type": "scatter3d"
           }
          ],
          "scattercarpet": [
           {
            "marker": {
             "colorbar": {
              "outlinewidth": 0,
              "ticks": ""
             }
            },
            "type": "scattercarpet"
           }
          ],
          "scattergeo": [
           {
            "marker": {
             "colorbar": {
              "outlinewidth": 0,
              "ticks": ""
             }
            },
            "type": "scattergeo"
           }
          ],
          "scattergl": [
           {
            "marker": {
             "colorbar": {
              "outlinewidth": 0,
              "ticks": ""
             }
            },
            "type": "scattergl"
           }
          ],
          "scattermap": [
           {
            "marker": {
             "colorbar": {
              "outlinewidth": 0,
              "ticks": ""
             }
            },
            "type": "scattermap"
           }
          ],
          "scattermapbox": [
           {
            "marker": {
             "colorbar": {
              "outlinewidth": 0,
              "ticks": ""
             }
            },
            "type": "scattermapbox"
           }
          ],
          "scatterpolar": [
           {
            "marker": {
             "colorbar": {
              "outlinewidth": 0,
              "ticks": ""
             }
            },
            "type": "scatterpolar"
           }
          ],
          "scatterpolargl": [
           {
            "marker": {
             "colorbar": {
              "outlinewidth": 0,
              "ticks": ""
             }
            },
            "type": "scatterpolargl"
           }
          ],
          "scatterternary": [
           {
            "marker": {
             "colorbar": {
              "outlinewidth": 0,
              "ticks": ""
             }
            },
            "type": "scatterternary"
           }
          ],
          "surface": [
           {
            "colorbar": {
             "outlinewidth": 0,
             "ticks": ""
            },
            "colorscale": [
             [
              0,
              "#0d0887"
             ],
             [
              0.1111111111111111,
              "#46039f"
             ],
             [
              0.2222222222222222,
              "#7201a8"
             ],
             [
              0.3333333333333333,
              "#9c179e"
             ],
             [
              0.4444444444444444,
              "#bd3786"
             ],
             [
              0.5555555555555556,
              "#d8576b"
             ],
             [
              0.6666666666666666,
              "#ed7953"
             ],
             [
              0.7777777777777778,
              "#fb9f3a"
             ],
             [
              0.8888888888888888,
              "#fdca26"
             ],
             [
              1,
              "#f0f921"
             ]
            ],
            "type": "surface"
           }
          ],
          "table": [
           {
            "cells": {
             "fill": {
              "color": "#EBF0F8"
             },
             "line": {
              "color": "white"
             }
            },
            "header": {
             "fill": {
              "color": "#C8D4E3"
             },
             "line": {
              "color": "white"
             }
            },
            "type": "table"
           }
          ]
         },
         "layout": {
          "annotationdefaults": {
           "arrowcolor": "#2a3f5f",
           "arrowhead": 0,
           "arrowwidth": 1
          },
          "autotypenumbers": "strict",
          "coloraxis": {
           "colorbar": {
            "outlinewidth": 0,
            "ticks": ""
           }
          },
          "colorscale": {
           "diverging": [
            [
             0,
             "#8e0152"
            ],
            [
             0.1,
             "#c51b7d"
            ],
            [
             0.2,
             "#de77ae"
            ],
            [
             0.3,
             "#f1b6da"
            ],
            [
             0.4,
             "#fde0ef"
            ],
            [
             0.5,
             "#f7f7f7"
            ],
            [
             0.6,
             "#e6f5d0"
            ],
            [
             0.7,
             "#b8e186"
            ],
            [
             0.8,
             "#7fbc41"
            ],
            [
             0.9,
             "#4d9221"
            ],
            [
             1,
             "#276419"
            ]
           ],
           "sequential": [
            [
             0,
             "#0d0887"
            ],
            [
             0.1111111111111111,
             "#46039f"
            ],
            [
             0.2222222222222222,
             "#7201a8"
            ],
            [
             0.3333333333333333,
             "#9c179e"
            ],
            [
             0.4444444444444444,
             "#bd3786"
            ],
            [
             0.5555555555555556,
             "#d8576b"
            ],
            [
             0.6666666666666666,
             "#ed7953"
            ],
            [
             0.7777777777777778,
             "#fb9f3a"
            ],
            [
             0.8888888888888888,
             "#fdca26"
            ],
            [
             1,
             "#f0f921"
            ]
           ],
           "sequentialminus": [
            [
             0,
             "#0d0887"
            ],
            [
             0.1111111111111111,
             "#46039f"
            ],
            [
             0.2222222222222222,
             "#7201a8"
            ],
            [
             0.3333333333333333,
             "#9c179e"
            ],
            [
             0.4444444444444444,
             "#bd3786"
            ],
            [
             0.5555555555555556,
             "#d8576b"
            ],
            [
             0.6666666666666666,
             "#ed7953"
            ],
            [
             0.7777777777777778,
             "#fb9f3a"
            ],
            [
             0.8888888888888888,
             "#fdca26"
            ],
            [
             1,
             "#f0f921"
            ]
           ]
          },
          "colorway": [
           "#636efa",
           "#EF553B",
           "#00cc96",
           "#ab63fa",
           "#FFA15A",
           "#19d3f3",
           "#FF6692",
           "#B6E880",
           "#FF97FF",
           "#FECB52"
          ],
          "font": {
           "color": "#2a3f5f"
          },
          "geo": {
           "bgcolor": "white",
           "lakecolor": "white",
           "landcolor": "#E5ECF6",
           "showlakes": true,
           "showland": true,
           "subunitcolor": "white"
          },
          "hoverlabel": {
           "align": "left"
          },
          "hovermode": "closest",
          "mapbox": {
           "style": "light"
          },
          "paper_bgcolor": "white",
          "plot_bgcolor": "#E5ECF6",
          "polar": {
           "angularaxis": {
            "gridcolor": "white",
            "linecolor": "white",
            "ticks": ""
           },
           "bgcolor": "#E5ECF6",
           "radialaxis": {
            "gridcolor": "white",
            "linecolor": "white",
            "ticks": ""
           }
          },
          "scene": {
           "xaxis": {
            "backgroundcolor": "#E5ECF6",
            "gridcolor": "white",
            "gridwidth": 2,
            "linecolor": "white",
            "showbackground": true,
            "ticks": "",
            "zerolinecolor": "white"
           },
           "yaxis": {
            "backgroundcolor": "#E5ECF6",
            "gridcolor": "white",
            "gridwidth": 2,
            "linecolor": "white",
            "showbackground": true,
            "ticks": "",
            "zerolinecolor": "white"
           },
           "zaxis": {
            "backgroundcolor": "#E5ECF6",
            "gridcolor": "white",
            "gridwidth": 2,
            "linecolor": "white",
            "showbackground": true,
            "ticks": "",
            "zerolinecolor": "white"
           }
          },
          "shapedefaults": {
           "line": {
            "color": "#2a3f5f"
           }
          },
          "ternary": {
           "aaxis": {
            "gridcolor": "white",
            "linecolor": "white",
            "ticks": ""
           },
           "baxis": {
            "gridcolor": "white",
            "linecolor": "white",
            "ticks": ""
           },
           "bgcolor": "#E5ECF6",
           "caxis": {
            "gridcolor": "white",
            "linecolor": "white",
            "ticks": ""
           }
          },
          "title": {
           "x": 0.05
          },
          "xaxis": {
           "automargin": true,
           "gridcolor": "white",
           "linecolor": "white",
           "ticks": "",
           "title": {
            "standoff": 15
           },
           "zerolinecolor": "white",
           "zerolinewidth": 2
          },
          "yaxis": {
           "automargin": true,
           "gridcolor": "white",
           "linecolor": "white",
           "ticks": "",
           "title": {
            "standoff": 15
           },
           "zerolinecolor": "white",
           "zerolinewidth": 2
          }
         }
        },
        "title": {
         "text": "Metric: false_rejection_rate with 95% Confidence Intervals"
        },
        "width": 800,
        "xaxis": {
         "title": {
          "text": "Dimension Group"
         }
        },
        "yaxis": {
         "title": {
          "text": "Rate"
         }
        }
       }
      }
     },
     "metadata": {},
     "output_type": "display_data"
    },
    {
     "data": {
      "application/vnd.plotly.v1+json": {
       "config": {
        "plotlyServerURL": "https://plot.ly"
       },
       "data": [
        {
         "error_y": {
          "array": {
           "bdata": "AAAAAAAAAABoebIcfi1qP+fYvvgZCHU/R7qYl8a3Zz8=",
           "dtype": "f8"
          },
          "symmetric": true,
          "thickness": 2,
          "type": "data",
          "visible": true,
          "width": 5
         },
         "marker": {
          "color": "green",
          "size": 10,
          "symbol": [
           "circle",
           "circle",
           "circle",
           "circle"
          ]
         },
         "mode": "markers",
         "name": "has_video = True",
         "type": "scatter",
         "x": [
          "Biometric Authentication",
          "Biometric Passive Liveness",
          "Document Verification",
          "IDV"
         ],
         "y": {
          "bdata": "AAAAAAAAAADoiq/4iq+IP7Pz0kB9Xno/L4mTLxa8gj8=",
          "dtype": "f8"
         }
        },
        {
         "error_y": {
          "array": {
           "bdata": "R/L7swXyrT8AAAAAAAAAADSSL4PnyVo/NsCKZyp0bD8=",
           "dtype": "f8"
          },
          "symmetric": true,
          "thickness": 2,
          "type": "data",
          "visible": true,
          "width": 5
         },
         "marker": {
          "color": "salmon",
          "size": 10,
          "symbol": [
           "circle",
           "circle",
           "circle",
           "circle"
          ]
         },
         "mode": "markers",
         "name": "has_video = False",
         "type": "scatter",
         "x": [
          "Biometric Authentication",
          "Biometric Passive Liveness",
          "Document Verification",
          "IDV"
         ],
         "y": {
          "bdata": "Bx988MEHnz8AAAAAAAAAAAzR8c3iv4E/7n+CtM70hD8=",
          "dtype": "f8"
         }
        },
        {
         "marker": {
          "color": "grey",
          "size": 10,
          "symbol": "star"
         },
         "mode": "markers",
         "name": "Significant",
         "type": "scatter",
         "x": [
          null
         ],
         "y": [
          null
         ]
        },
        {
         "marker": {
          "color": "grey",
          "size": 10,
          "symbol": "circle"
         },
         "mode": "markers",
         "name": "Not Significant",
         "type": "scatter",
         "x": [
          null
         ],
         "y": [
          null
         ]
        }
       ],
       "layout": {
        "font": {
         "size": 12
        },
        "height": 600,
        "legend": {
         "title": {
          "text": "Has Video?"
         }
        },
        "margin": {
         "b": 100,
         "l": 50,
         "r": 20,
         "t": 100
        },
        "template": {
         "data": {
          "bar": [
           {
            "error_x": {
             "color": "#2a3f5f"
            },
            "error_y": {
             "color": "#2a3f5f"
            },
            "marker": {
             "line": {
              "color": "#E5ECF6",
              "width": 0.5
             },
             "pattern": {
              "fillmode": "overlay",
              "size": 10,
              "solidity": 0.2
             }
            },
            "type": "bar"
           }
          ],
          "barpolar": [
           {
            "marker": {
             "line": {
              "color": "#E5ECF6",
              "width": 0.5
             },
             "pattern": {
              "fillmode": "overlay",
              "size": 10,
              "solidity": 0.2
             }
            },
            "type": "barpolar"
           }
          ],
          "carpet": [
           {
            "aaxis": {
             "endlinecolor": "#2a3f5f",
             "gridcolor": "white",
             "linecolor": "white",
             "minorgridcolor": "white",
             "startlinecolor": "#2a3f5f"
            },
            "baxis": {
             "endlinecolor": "#2a3f5f",
             "gridcolor": "white",
             "linecolor": "white",
             "minorgridcolor": "white",
             "startlinecolor": "#2a3f5f"
            },
            "type": "carpet"
           }
          ],
          "choropleth": [
           {
            "colorbar": {
             "outlinewidth": 0,
             "ticks": ""
            },
            "type": "choropleth"
           }
          ],
          "contour": [
           {
            "colorbar": {
             "outlinewidth": 0,
             "ticks": ""
            },
            "colorscale": [
             [
              0,
              "#0d0887"
             ],
             [
              0.1111111111111111,
              "#46039f"
             ],
             [
              0.2222222222222222,
              "#7201a8"
             ],
             [
              0.3333333333333333,
              "#9c179e"
             ],
             [
              0.4444444444444444,
              "#bd3786"
             ],
             [
              0.5555555555555556,
              "#d8576b"
             ],
             [
              0.6666666666666666,
              "#ed7953"
             ],
             [
              0.7777777777777778,
              "#fb9f3a"
             ],
             [
              0.8888888888888888,
              "#fdca26"
             ],
             [
              1,
              "#f0f921"
             ]
            ],
            "type": "contour"
           }
          ],
          "contourcarpet": [
           {
            "colorbar": {
             "outlinewidth": 0,
             "ticks": ""
            },
            "type": "contourcarpet"
           }
          ],
          "heatmap": [
           {
            "colorbar": {
             "outlinewidth": 0,
             "ticks": ""
            },
            "colorscale": [
             [
              0,
              "#0d0887"
             ],
             [
              0.1111111111111111,
              "#46039f"
             ],
             [
              0.2222222222222222,
              "#7201a8"
             ],
             [
              0.3333333333333333,
              "#9c179e"
             ],
             [
              0.4444444444444444,
              "#bd3786"
             ],
             [
              0.5555555555555556,
              "#d8576b"
             ],
             [
              0.6666666666666666,
              "#ed7953"
             ],
             [
              0.7777777777777778,
              "#fb9f3a"
             ],
             [
              0.8888888888888888,
              "#fdca26"
             ],
             [
              1,
              "#f0f921"
             ]
            ],
            "type": "heatmap"
           }
          ],
          "histogram": [
           {
            "marker": {
             "pattern": {
              "fillmode": "overlay",
              "size": 10,
              "solidity": 0.2
             }
            },
            "type": "histogram"
           }
          ],
          "histogram2d": [
           {
            "colorbar": {
             "outlinewidth": 0,
             "ticks": ""
            },
            "colorscale": [
             [
              0,
              "#0d0887"
             ],
             [
              0.1111111111111111,
              "#46039f"
             ],
             [
              0.2222222222222222,
              "#7201a8"
             ],
             [
              0.3333333333333333,
              "#9c179e"
             ],
             [
              0.4444444444444444,
              "#bd3786"
             ],
             [
              0.5555555555555556,
              "#d8576b"
             ],
             [
              0.6666666666666666,
              "#ed7953"
             ],
             [
              0.7777777777777778,
              "#fb9f3a"
             ],
             [
              0.8888888888888888,
              "#fdca26"
             ],
             [
              1,
              "#f0f921"
             ]
            ],
            "type": "histogram2d"
           }
          ],
          "histogram2dcontour": [
           {
            "colorbar": {
             "outlinewidth": 0,
             "ticks": ""
            },
            "colorscale": [
             [
              0,
              "#0d0887"
             ],
             [
              0.1111111111111111,
              "#46039f"
             ],
             [
              0.2222222222222222,
              "#7201a8"
             ],
             [
              0.3333333333333333,
              "#9c179e"
             ],
             [
              0.4444444444444444,
              "#bd3786"
             ],
             [
              0.5555555555555556,
              "#d8576b"
             ],
             [
              0.6666666666666666,
              "#ed7953"
             ],
             [
              0.7777777777777778,
              "#fb9f3a"
             ],
             [
              0.8888888888888888,
              "#fdca26"
             ],
             [
              1,
              "#f0f921"
             ]
            ],
            "type": "histogram2dcontour"
           }
          ],
          "mesh3d": [
           {
            "colorbar": {
             "outlinewidth": 0,
             "ticks": ""
            },
            "type": "mesh3d"
           }
          ],
          "parcoords": [
           {
            "line": {
             "colorbar": {
              "outlinewidth": 0,
              "ticks": ""
             }
            },
            "type": "parcoords"
           }
          ],
          "pie": [
           {
            "automargin": true,
            "type": "pie"
           }
          ],
          "scatter": [
           {
            "fillpattern": {
             "fillmode": "overlay",
             "size": 10,
             "solidity": 0.2
            },
            "type": "scatter"
           }
          ],
          "scatter3d": [
           {
            "line": {
             "colorbar": {
              "outlinewidth": 0,
              "ticks": ""
             }
            },
            "marker": {
             "colorbar": {
              "outlinewidth": 0,
              "ticks": ""
             }
            },
            "type": "scatter3d"
           }
          ],
          "scattercarpet": [
           {
            "marker": {
             "colorbar": {
              "outlinewidth": 0,
              "ticks": ""
             }
            },
            "type": "scattercarpet"
           }
          ],
          "scattergeo": [
           {
            "marker": {
             "colorbar": {
              "outlinewidth": 0,
              "ticks": ""
             }
            },
            "type": "scattergeo"
           }
          ],
          "scattergl": [
           {
            "marker": {
             "colorbar": {
              "outlinewidth": 0,
              "ticks": ""
             }
            },
            "type": "scattergl"
           }
          ],
          "scattermap": [
           {
            "marker": {
             "colorbar": {
              "outlinewidth": 0,
              "ticks": ""
             }
            },
            "type": "scattermap"
           }
          ],
          "scattermapbox": [
           {
            "marker": {
             "colorbar": {
              "outlinewidth": 0,
              "ticks": ""
             }
            },
            "type": "scattermapbox"
           }
          ],
          "scatterpolar": [
           {
            "marker": {
             "colorbar": {
              "outlinewidth": 0,
              "ticks": ""
             }
            },
            "type": "scatterpolar"
           }
          ],
          "scatterpolargl": [
           {
            "marker": {
             "colorbar": {
              "outlinewidth": 0,
              "ticks": ""
             }
            },
            "type": "scatterpolargl"
           }
          ],
          "scatterternary": [
           {
            "marker": {
             "colorbar": {
              "outlinewidth": 0,
              "ticks": ""
             }
            },
            "type": "scatterternary"
           }
          ],
          "surface": [
           {
            "colorbar": {
             "outlinewidth": 0,
             "ticks": ""
            },
            "colorscale": [
             [
              0,
              "#0d0887"
             ],
             [
              0.1111111111111111,
              "#46039f"
             ],
             [
              0.2222222222222222,
              "#7201a8"
             ],
             [
              0.3333333333333333,
              "#9c179e"
             ],
             [
              0.4444444444444444,
              "#bd3786"
             ],
             [
              0.5555555555555556,
              "#d8576b"
             ],
             [
              0.6666666666666666,
              "#ed7953"
             ],
             [
              0.7777777777777778,
              "#fb9f3a"
             ],
             [
              0.8888888888888888,
              "#fdca26"
             ],
             [
              1,
              "#f0f921"
             ]
            ],
            "type": "surface"
           }
          ],
          "table": [
           {
            "cells": {
             "fill": {
              "color": "#EBF0F8"
             },
             "line": {
              "color": "white"
             }
            },
            "header": {
             "fill": {
              "color": "#C8D4E3"
             },
             "line": {
              "color": "white"
             }
            },
            "type": "table"
           }
          ]
         },
         "layout": {
          "annotationdefaults": {
           "arrowcolor": "#2a3f5f",
           "arrowhead": 0,
           "arrowwidth": 1
          },
          "autotypenumbers": "strict",
          "coloraxis": {
           "colorbar": {
            "outlinewidth": 0,
            "ticks": ""
           }
          },
          "colorscale": {
           "diverging": [
            [
             0,
             "#8e0152"
            ],
            [
             0.1,
             "#c51b7d"
            ],
            [
             0.2,
             "#de77ae"
            ],
            [
             0.3,
             "#f1b6da"
            ],
            [
             0.4,
             "#fde0ef"
            ],
            [
             0.5,
             "#f7f7f7"
            ],
            [
             0.6,
             "#e6f5d0"
            ],
            [
             0.7,
             "#b8e186"
            ],
            [
             0.8,
             "#7fbc41"
            ],
            [
             0.9,
             "#4d9221"
            ],
            [
             1,
             "#276419"
            ]
           ],
           "sequential": [
            [
             0,
             "#0d0887"
            ],
            [
             0.1111111111111111,
             "#46039f"
            ],
            [
             0.2222222222222222,
             "#7201a8"
            ],
            [
             0.3333333333333333,
             "#9c179e"
            ],
            [
             0.4444444444444444,
             "#bd3786"
            ],
            [
             0.5555555555555556,
             "#d8576b"
            ],
            [
             0.6666666666666666,
             "#ed7953"
            ],
            [
             0.7777777777777778,
             "#fb9f3a"
            ],
            [
             0.8888888888888888,
             "#fdca26"
            ],
            [
             1,
             "#f0f921"
            ]
           ],
           "sequentialminus": [
            [
             0,
             "#0d0887"
            ],
            [
             0.1111111111111111,
             "#46039f"
            ],
            [
             0.2222222222222222,
             "#7201a8"
            ],
            [
             0.3333333333333333,
             "#9c179e"
            ],
            [
             0.4444444444444444,
             "#bd3786"
            ],
            [
             0.5555555555555556,
             "#d8576b"
            ],
            [
             0.6666666666666666,
             "#ed7953"
            ],
            [
             0.7777777777777778,
             "#fb9f3a"
            ],
            [
             0.8888888888888888,
             "#fdca26"
            ],
            [
             1,
             "#f0f921"
            ]
           ]
          },
          "colorway": [
           "#636efa",
           "#EF553B",
           "#00cc96",
           "#ab63fa",
           "#FFA15A",
           "#19d3f3",
           "#FF6692",
           "#B6E880",
           "#FF97FF",
           "#FECB52"
          ],
          "font": {
           "color": "#2a3f5f"
          },
          "geo": {
           "bgcolor": "white",
           "lakecolor": "white",
           "landcolor": "#E5ECF6",
           "showlakes": true,
           "showland": true,
           "subunitcolor": "white"
          },
          "hoverlabel": {
           "align": "left"
          },
          "hovermode": "closest",
          "mapbox": {
           "style": "light"
          },
          "paper_bgcolor": "white",
          "plot_bgcolor": "#E5ECF6",
          "polar": {
           "angularaxis": {
            "gridcolor": "white",
            "linecolor": "white",
            "ticks": ""
           },
           "bgcolor": "#E5ECF6",
           "radialaxis": {
            "gridcolor": "white",
            "linecolor": "white",
            "ticks": ""
           }
          },
          "scene": {
           "xaxis": {
            "backgroundcolor": "#E5ECF6",
            "gridcolor": "white",
            "gridwidth": 2,
            "linecolor": "white",
            "showbackground": true,
            "ticks": "",
            "zerolinecolor": "white"
           },
           "yaxis": {
            "backgroundcolor": "#E5ECF6",
            "gridcolor": "white",
            "gridwidth": 2,
            "linecolor": "white",
            "showbackground": true,
            "ticks": "",
            "zerolinecolor": "white"
           },
           "zaxis": {
            "backgroundcolor": "#E5ECF6",
            "gridcolor": "white",
            "gridwidth": 2,
            "linecolor": "white",
            "showbackground": true,
            "ticks": "",
            "zerolinecolor": "white"
           }
          },
          "shapedefaults": {
           "line": {
            "color": "#2a3f5f"
           }
          },
          "ternary": {
           "aaxis": {
            "gridcolor": "white",
            "linecolor": "white",
            "ticks": ""
           },
           "baxis": {
            "gridcolor": "white",
            "linecolor": "white",
            "ticks": ""
           },
           "bgcolor": "#E5ECF6",
           "caxis": {
            "gridcolor": "white",
            "linecolor": "white",
            "ticks": ""
           }
          },
          "title": {
           "x": 0.05
          },
          "xaxis": {
           "automargin": true,
           "gridcolor": "white",
           "linecolor": "white",
           "ticks": "",
           "title": {
            "standoff": 15
           },
           "zerolinecolor": "white",
           "zerolinewidth": 2
          },
          "yaxis": {
           "automargin": true,
           "gridcolor": "white",
           "linecolor": "white",
           "ticks": "",
           "title": {
            "standoff": 15
           },
           "zerolinecolor": "white",
           "zerolinewidth": 2
          }
         }
        },
        "title": {
         "text": "Metric: critical_error_rate with 95% Confidence Intervals"
        },
        "width": 800,
        "xaxis": {
         "title": {
          "text": "Dimension Group"
         }
        },
        "yaxis": {
         "title": {
          "text": "Rate"
         }
        }
       }
      }
     },
     "metadata": {},
     "output_type": "display_data"
    },
    {
     "data": {
      "application/vnd.plotly.v1+json": {
       "config": {
        "plotlyServerURL": "https://plot.ly"
       },
       "data": [
        {
         "error_y": {
          "array": {
           "bdata": "AAAAAAAAAAAAAAAAAAAAAGBBpJGTDYY/4C8T3jzJdj8=",
           "dtype": "f8"
          },
          "symmetric": true,
          "thickness": 2,
          "type": "data",
          "visible": true,
          "width": 5
         },
         "marker": {
          "color": "green",
          "size": 10,
          "symbol": [
           "circle",
           "circle",
           "circle",
           "star"
          ]
         },
         "mode": "markers",
         "name": "has_video = True",
         "type": "scatter",
         "x": [
          "Biometric Authentication",
          "Biometric Passive Liveness",
          "Document Verification",
          "IDV"
         ],
         "y": {
          "bdata": "AAAAAAAAAAAAAAAAAAAAAFVS7ehMqp0/TsWLOqm/oT8=",
          "dtype": "f8"
         }
        },
        {
         "error_y": {
          "array": {
           "bdata": "AAAAAAAAAAAAAAAAAAAAAHZHxhdXs2U/jLMrLql0dD8=",
           "dtype": "f8"
          },
          "symmetric": true,
          "thickness": 2,
          "type": "data",
          "visible": true,
          "width": 5
         },
         "marker": {
          "color": "salmon",
          "size": 10,
          "symbol": [
           "circle",
           "circle",
           "circle",
           "star"
          ]
         },
         "mode": "markers",
         "name": "has_video = False",
         "type": "scatter",
         "x": [
          "Biometric Authentication",
          "Biometric Passive Liveness",
          "Document Verification",
          "IDV"
         ],
         "y": {
          "bdata": "AAAAAAAAAAAAAAAAAAAAAI/42dhvo5c/ZVcrjqnolT8=",
          "dtype": "f8"
         }
        },
        {
         "marker": {
          "color": "grey",
          "size": 10,
          "symbol": "star"
         },
         "mode": "markers",
         "name": "Significant",
         "type": "scatter",
         "x": [
          null
         ],
         "y": [
          null
         ]
        },
        {
         "marker": {
          "color": "grey",
          "size": 10,
          "symbol": "circle"
         },
         "mode": "markers",
         "name": "Not Significant",
         "type": "scatter",
         "x": [
          null
         ],
         "y": [
          null
         ]
        }
       ],
       "layout": {
        "font": {
         "size": 12
        },
        "height": 600,
        "legend": {
         "title": {
          "text": "Has Video?"
         }
        },
        "margin": {
         "b": 100,
         "l": 50,
         "r": 20,
         "t": 100
        },
        "template": {
         "data": {
          "bar": [
           {
            "error_x": {
             "color": "#2a3f5f"
            },
            "error_y": {
             "color": "#2a3f5f"
            },
            "marker": {
             "line": {
              "color": "#E5ECF6",
              "width": 0.5
             },
             "pattern": {
              "fillmode": "overlay",
              "size": 10,
              "solidity": 0.2
             }
            },
            "type": "bar"
           }
          ],
          "barpolar": [
           {
            "marker": {
             "line": {
              "color": "#E5ECF6",
              "width": 0.5
             },
             "pattern": {
              "fillmode": "overlay",
              "size": 10,
              "solidity": 0.2
             }
            },
            "type": "barpolar"
           }
          ],
          "carpet": [
           {
            "aaxis": {
             "endlinecolor": "#2a3f5f",
             "gridcolor": "white",
             "linecolor": "white",
             "minorgridcolor": "white",
             "startlinecolor": "#2a3f5f"
            },
            "baxis": {
             "endlinecolor": "#2a3f5f",
             "gridcolor": "white",
             "linecolor": "white",
             "minorgridcolor": "white",
             "startlinecolor": "#2a3f5f"
            },
            "type": "carpet"
           }
          ],
          "choropleth": [
           {
            "colorbar": {
             "outlinewidth": 0,
             "ticks": ""
            },
            "type": "choropleth"
           }
          ],
          "contour": [
           {
            "colorbar": {
             "outlinewidth": 0,
             "ticks": ""
            },
            "colorscale": [
             [
              0,
              "#0d0887"
             ],
             [
              0.1111111111111111,
              "#46039f"
             ],
             [
              0.2222222222222222,
              "#7201a8"
             ],
             [
              0.3333333333333333,
              "#9c179e"
             ],
             [
              0.4444444444444444,
              "#bd3786"
             ],
             [
              0.5555555555555556,
              "#d8576b"
             ],
             [
              0.6666666666666666,
              "#ed7953"
             ],
             [
              0.7777777777777778,
              "#fb9f3a"
             ],
             [
              0.8888888888888888,
              "#fdca26"
             ],
             [
              1,
              "#f0f921"
             ]
            ],
            "type": "contour"
           }
          ],
          "contourcarpet": [
           {
            "colorbar": {
             "outlinewidth": 0,
             "ticks": ""
            },
            "type": "contourcarpet"
           }
          ],
          "heatmap": [
           {
            "colorbar": {
             "outlinewidth": 0,
             "ticks": ""
            },
            "colorscale": [
             [
              0,
              "#0d0887"
             ],
             [
              0.1111111111111111,
              "#46039f"
             ],
             [
              0.2222222222222222,
              "#7201a8"
             ],
             [
              0.3333333333333333,
              "#9c179e"
             ],
             [
              0.4444444444444444,
              "#bd3786"
             ],
             [
              0.5555555555555556,
              "#d8576b"
             ],
             [
              0.6666666666666666,
              "#ed7953"
             ],
             [
              0.7777777777777778,
              "#fb9f3a"
             ],
             [
              0.8888888888888888,
              "#fdca26"
             ],
             [
              1,
              "#f0f921"
             ]
            ],
            "type": "heatmap"
           }
          ],
          "histogram": [
           {
            "marker": {
             "pattern": {
              "fillmode": "overlay",
              "size": 10,
              "solidity": 0.2
             }
            },
            "type": "histogram"
           }
          ],
          "histogram2d": [
           {
            "colorbar": {
             "outlinewidth": 0,
             "ticks": ""
            },
            "colorscale": [
             [
              0,
              "#0d0887"
             ],
             [
              0.1111111111111111,
              "#46039f"
             ],
             [
              0.2222222222222222,
              "#7201a8"
             ],
             [
              0.3333333333333333,
              "#9c179e"
             ],
             [
              0.4444444444444444,
              "#bd3786"
             ],
             [
              0.5555555555555556,
              "#d8576b"
             ],
             [
              0.6666666666666666,
              "#ed7953"
             ],
             [
              0.7777777777777778,
              "#fb9f3a"
             ],
             [
              0.8888888888888888,
              "#fdca26"
             ],
             [
              1,
              "#f0f921"
             ]
            ],
            "type": "histogram2d"
           }
          ],
          "histogram2dcontour": [
           {
            "colorbar": {
             "outlinewidth": 0,
             "ticks": ""
            },
            "colorscale": [
             [
              0,
              "#0d0887"
             ],
             [
              0.1111111111111111,
              "#46039f"
             ],
             [
              0.2222222222222222,
              "#7201a8"
             ],
             [
              0.3333333333333333,
              "#9c179e"
             ],
             [
              0.4444444444444444,
              "#bd3786"
             ],
             [
              0.5555555555555556,
              "#d8576b"
             ],
             [
              0.6666666666666666,
              "#ed7953"
             ],
             [
              0.7777777777777778,
              "#fb9f3a"
             ],
             [
              0.8888888888888888,
              "#fdca26"
             ],
             [
              1,
              "#f0f921"
             ]
            ],
            "type": "histogram2dcontour"
           }
          ],
          "mesh3d": [
           {
            "colorbar": {
             "outlinewidth": 0,
             "ticks": ""
            },
            "type": "mesh3d"
           }
          ],
          "parcoords": [
           {
            "line": {
             "colorbar": {
              "outlinewidth": 0,
              "ticks": ""
             }
            },
            "type": "parcoords"
           }
          ],
          "pie": [
           {
            "automargin": true,
            "type": "pie"
           }
          ],
          "scatter": [
           {
            "fillpattern": {
             "fillmode": "overlay",
             "size": 10,
             "solidity": 0.2
            },
            "type": "scatter"
           }
          ],
          "scatter3d": [
           {
            "line": {
             "colorbar": {
              "outlinewidth": 0,
              "ticks": ""
             }
            },
            "marker": {
             "colorbar": {
              "outlinewidth": 0,
              "ticks": ""
             }
            },
            "type": "scatter3d"
           }
          ],
          "scattercarpet": [
           {
            "marker": {
             "colorbar": {
              "outlinewidth": 0,
              "ticks": ""
             }
            },
            "type": "scattercarpet"
           }
          ],
          "scattergeo": [
           {
            "marker": {
             "colorbar": {
              "outlinewidth": 0,
              "ticks": ""
             }
            },
            "type": "scattergeo"
           }
          ],
          "scattergl": [
           {
            "marker": {
             "colorbar": {
              "outlinewidth": 0,
              "ticks": ""
             }
            },
            "type": "scattergl"
           }
          ],
          "scattermap": [
           {
            "marker": {
             "colorbar": {
              "outlinewidth": 0,
              "ticks": ""
             }
            },
            "type": "scattermap"
           }
          ],
          "scattermapbox": [
           {
            "marker": {
             "colorbar": {
              "outlinewidth": 0,
              "ticks": ""
             }
            },
            "type": "scattermapbox"
           }
          ],
          "scatterpolar": [
           {
            "marker": {
             "colorbar": {
              "outlinewidth": 0,
              "ticks": ""
             }
            },
            "type": "scatterpolar"
           }
          ],
          "scatterpolargl": [
           {
            "marker": {
             "colorbar": {
              "outlinewidth": 0,
              "ticks": ""
             }
            },
            "type": "scatterpolargl"
           }
          ],
          "scatterternary": [
           {
            "marker": {
             "colorbar": {
              "outlinewidth": 0,
              "ticks": ""
             }
            },
            "type": "scatterternary"
           }
          ],
          "surface": [
           {
            "colorbar": {
             "outlinewidth": 0,
             "ticks": ""
            },
            "colorscale": [
             [
              0,
              "#0d0887"
             ],
             [
              0.1111111111111111,
              "#46039f"
             ],
             [
              0.2222222222222222,
              "#7201a8"
             ],
             [
              0.3333333333333333,
              "#9c179e"
             ],
             [
              0.4444444444444444,
              "#bd3786"
             ],
             [
              0.5555555555555556,
              "#d8576b"
             ],
             [
              0.6666666666666666,
              "#ed7953"
             ],
             [
              0.7777777777777778,
              "#fb9f3a"
             ],
             [
              0.8888888888888888,
              "#fdca26"
             ],
             [
              1,
              "#f0f921"
             ]
            ],
            "type": "surface"
           }
          ],
          "table": [
           {
            "cells": {
             "fill": {
              "color": "#EBF0F8"
             },
             "line": {
              "color": "white"
             }
            },
            "header": {
             "fill": {
              "color": "#C8D4E3"
             },
             "line": {
              "color": "white"
             }
            },
            "type": "table"
           }
          ]
         },
         "layout": {
          "annotationdefaults": {
           "arrowcolor": "#2a3f5f",
           "arrowhead": 0,
           "arrowwidth": 1
          },
          "autotypenumbers": "strict",
          "coloraxis": {
           "colorbar": {
            "outlinewidth": 0,
            "ticks": ""
           }
          },
          "colorscale": {
           "diverging": [
            [
             0,
             "#8e0152"
            ],
            [
             0.1,
             "#c51b7d"
            ],
            [
             0.2,
             "#de77ae"
            ],
            [
             0.3,
             "#f1b6da"
            ],
            [
             0.4,
             "#fde0ef"
            ],
            [
             0.5,
             "#f7f7f7"
            ],
            [
             0.6,
             "#e6f5d0"
            ],
            [
             0.7,
             "#b8e186"
            ],
            [
             0.8,
             "#7fbc41"
            ],
            [
             0.9,
             "#4d9221"
            ],
            [
             1,
             "#276419"
            ]
           ],
           "sequential": [
            [
             0,
             "#0d0887"
            ],
            [
             0.1111111111111111,
             "#46039f"
            ],
            [
             0.2222222222222222,
             "#7201a8"
            ],
            [
             0.3333333333333333,
             "#9c179e"
            ],
            [
             0.4444444444444444,
             "#bd3786"
            ],
            [
             0.5555555555555556,
             "#d8576b"
            ],
            [
             0.6666666666666666,
             "#ed7953"
            ],
            [
             0.7777777777777778,
             "#fb9f3a"
            ],
            [
             0.8888888888888888,
             "#fdca26"
            ],
            [
             1,
             "#f0f921"
            ]
           ],
           "sequentialminus": [
            [
             0,
             "#0d0887"
            ],
            [
             0.1111111111111111,
             "#46039f"
            ],
            [
             0.2222222222222222,
             "#7201a8"
            ],
            [
             0.3333333333333333,
             "#9c179e"
            ],
            [
             0.4444444444444444,
             "#bd3786"
            ],
            [
             0.5555555555555556,
             "#d8576b"
            ],
            [
             0.6666666666666666,
             "#ed7953"
            ],
            [
             0.7777777777777778,
             "#fb9f3a"
            ],
            [
             0.8888888888888888,
             "#fdca26"
            ],
            [
             1,
             "#f0f921"
            ]
           ]
          },
          "colorway": [
           "#636efa",
           "#EF553B",
           "#00cc96",
           "#ab63fa",
           "#FFA15A",
           "#19d3f3",
           "#FF6692",
           "#B6E880",
           "#FF97FF",
           "#FECB52"
          ],
          "font": {
           "color": "#2a3f5f"
          },
          "geo": {
           "bgcolor": "white",
           "lakecolor": "white",
           "landcolor": "#E5ECF6",
           "showlakes": true,
           "showland": true,
           "subunitcolor": "white"
          },
          "hoverlabel": {
           "align": "left"
          },
          "hovermode": "closest",
          "mapbox": {
           "style": "light"
          },
          "paper_bgcolor": "white",
          "plot_bgcolor": "#E5ECF6",
          "polar": {
           "angularaxis": {
            "gridcolor": "white",
            "linecolor": "white",
            "ticks": ""
           },
           "bgcolor": "#E5ECF6",
           "radialaxis": {
            "gridcolor": "white",
            "linecolor": "white",
            "ticks": ""
           }
          },
          "scene": {
           "xaxis": {
            "backgroundcolor": "#E5ECF6",
            "gridcolor": "white",
            "gridwidth": 2,
            "linecolor": "white",
            "showbackground": true,
            "ticks": "",
            "zerolinecolor": "white"
           },
           "yaxis": {
            "backgroundcolor": "#E5ECF6",
            "gridcolor": "white",
            "gridwidth": 2,
            "linecolor": "white",
            "showbackground": true,
            "ticks": "",
            "zerolinecolor": "white"
           },
           "zaxis": {
            "backgroundcolor": "#E5ECF6",
            "gridcolor": "white",
            "gridwidth": 2,
            "linecolor": "white",
            "showbackground": true,
            "ticks": "",
            "zerolinecolor": "white"
           }
          },
          "shapedefaults": {
           "line": {
            "color": "#2a3f5f"
           }
          },
          "ternary": {
           "aaxis": {
            "gridcolor": "white",
            "linecolor": "white",
            "ticks": ""
           },
           "baxis": {
            "gridcolor": "white",
            "linecolor": "white",
            "ticks": ""
           },
           "bgcolor": "#E5ECF6",
           "caxis": {
            "gridcolor": "white",
            "linecolor": "white",
            "ticks": ""
           }
          },
          "title": {
           "x": 0.05
          },
          "xaxis": {
           "automargin": true,
           "gridcolor": "white",
           "linecolor": "white",
           "ticks": "",
           "title": {
            "standoff": 15
           },
           "zerolinecolor": "white",
           "zerolinewidth": 2
          },
          "yaxis": {
           "automargin": true,
           "gridcolor": "white",
           "linecolor": "white",
           "ticks": "",
           "title": {
            "standoff": 15
           },
           "zerolinecolor": "white",
           "zerolinewidth": 2
          }
         }
        },
        "title": {
         "text": "Metric: extraction_error_rate with 95% Confidence Intervals"
        },
        "width": 800,
        "xaxis": {
         "title": {
          "text": "Dimension Group"
         }
        },
        "yaxis": {
         "title": {
          "text": "Rate"
         }
        }
       }
      }
     },
     "metadata": {},
     "output_type": "display_data"
    },
    {
     "name": "stdout",
     "output_type": "stream",
     "text": [
      "Plots generated successfully.\n"
     ]
    }
   ],
   "source": [
    "import pandas as pd\n",
    "import plotly.graph_objects as go\n",
    "import plotly.express as px\n",
    "\n",
    "# 1. Load the data from the analysis script's output\n",
    "try:\n",
    "    df_results = pd.read_csv('statistical_analysis_results.csv')\n",
    "    print(\"Results data loaded successfully.\\n\")\n",
    "except FileNotFoundError:\n",
    "    print(\"Error: 'statistical_analysis_results.csv' not found.\")\n",
    "    print(\"Please run the statistical analysis script first to generate this file.\")\n",
    "    exit()\n",
    "\n",
    "# 2. Preprocess data for plotting\n",
    "df_plot = df_results.copy()\n",
    "df_plot['Group_Label'] = df_plot['Group'] #df_plot['Dimension'] + ': ' + df_plot['Group']\n",
    "\n",
    "# Create a list of unique metrics\n",
    "metrics_to_plot = df_results['Metric'].unique()\n",
    "\n",
    "# 3. Generate a plot for each metric using Plotly\n",
    "for metric in metrics_to_plot:\n",
    "    subset = df_plot[df_plot['Metric'] == metric].copy()\n",
    "\n",
    "    if subset.empty:\n",
    "        continue\n",
    "\n",
    "    subset = subset.sort_values('Group_Label')\n",
    "    \n",
    "    fig = go.Figure()\n",
    "\n",
    "    # Define a single color for each has_video group\n",
    "    color_true = 'green'\n",
    "    color_false = 'salmon'\n",
    "\n",
    "    # Define marker shapes for significance\n",
    "    # A circle for non-significant, and a different shape (e.g., a star) for significant\n",
    "    subset['marker_shape'] = subset['Significant'].apply(lambda x: 'star' if x else 'circle')\n",
    "\n",
    "    # Plot for has_video = True\n",
    "    fig.add_trace(go.Scatter(\n",
    "        x=subset['Group_Label'],\n",
    "        y=subset['Rate_has_video_True'],\n",
    "        mode='markers',\n",
    "        marker=dict(\n",
    "            size=10,\n",
    "            color=color_true,\n",
    "            symbol=subset['marker_shape']\n",
    "        ),\n",
    "        name='has_video = True',\n",
    "        error_y=dict(\n",
    "            type='data',\n",
    "            symmetric=True,\n",
    "            array=subset['Margin_has_video_True'],\n",
    "            visible=True,\n",
    "            thickness=2,\n",
    "            width=5\n",
    "        )\n",
    "    ))\n",
    "\n",
    "    # Plot for has_video = False\n",
    "    fig.add_trace(go.Scatter(\n",
    "        x=subset['Group_Label'],\n",
    "        y=subset['Rate_has_video_False'],\n",
    "        mode='markers',\n",
    "        marker=dict(\n",
    "            size=10,\n",
    "            color=color_false,\n",
    "            symbol=subset['marker_shape']\n",
    "        ),\n",
    "        name='has_video = False',\n",
    "        error_y=dict(\n",
    "            type='data',\n",
    "            symmetric=True,\n",
    "            array=subset['Margin_has_video_False'],\n",
    "            visible=True,\n",
    "            thickness=2,\n",
    "            width=5\n",
    "        )\n",
    "    ))\n",
    "    \n",
    "    # Final plot adjustments\n",
    "    fig.update_layout(\n",
    "        title=f'Metric: {metric} with 95% Confidence Intervals',\n",
    "        xaxis_title='Dimension Group',\n",
    "        yaxis_title='Rate',\n",
    "        legend_title='Has Video?',\n",
    "        font=dict(size=12),\n",
    "        height=600,\n",
    "        width=800,\n",
    "        margin=dict(l=50, r=20, b=100, t=100)\n",
    "    )\n",
    "\n",
    "    # Add a custom legend entry for significance\n",
    "    fig.add_trace(go.Scatter(\n",
    "        x=[None], y=[None],\n",
    "        mode='markers',\n",
    "        marker=dict(size=10, color='grey', symbol='star'),\n",
    "        name='Significant'\n",
    "    ))\n",
    "    fig.add_trace(go.Scatter(\n",
    "        x=[None], y=[None],\n",
    "        mode='markers',\n",
    "        marker=dict(size=10, color='grey', symbol='circle'),\n",
    "        name='Not Significant'\n",
    "    ))\n",
    "\n",
    "    fig.show()\n",
    "\n",
    "print(\"Plots generated successfully.\")"
   ]
  },
  {
   "cell_type": "code",
   "execution_count": 180,
   "id": "6ae017e9",
   "metadata": {},
   "outputs": [
    {
     "data": {
      "text/html": [
       "<div>\n",
       "<style scoped>\n",
       "    .dataframe tbody tr th:only-of-type {\n",
       "        vertical-align: middle;\n",
       "    }\n",
       "\n",
       "    .dataframe tbody tr th {\n",
       "        vertical-align: top;\n",
       "    }\n",
       "\n",
       "    .dataframe thead th {\n",
       "        text-align: right;\n",
       "    }\n",
       "</style>\n",
       "<table border=\"1\" class=\"dataframe\">\n",
       "  <thead>\n",
       "    <tr style=\"text-align: right;\">\n",
       "      <th></th>\n",
       "      <th>Group</th>\n",
       "      <th>Metric</th>\n",
       "      <th>Delta, %</th>\n",
       "      <th>P-Value</th>\n",
       "      <th>Significant</th>\n",
       "      <th>Rate_has_video_True, %</th>\n",
       "      <th>Rate_has_video_False, %</th>\n",
       "    </tr>\n",
       "  </thead>\n",
       "  <tbody>\n",
       "    <tr>\n",
       "      <th>0</th>\n",
       "      <td>Biometric Authentication</td>\n",
       "      <td>missed_fraud_rate</td>\n",
       "      <td>0.00</td>\n",
       "      <td>NaN</td>\n",
       "      <td>False</td>\n",
       "      <td>0.0±0.0</td>\n",
       "      <td>0.0±0.0</td>\n",
       "    </tr>\n",
       "    <tr>\n",
       "      <th>1</th>\n",
       "      <td>Biometric Authentication</td>\n",
       "      <td>false_approve_rate</td>\n",
       "      <td>0.00</td>\n",
       "      <td>NaN</td>\n",
       "      <td>False</td>\n",
       "      <td>0.0±0.0</td>\n",
       "      <td>0.0±0.0</td>\n",
       "    </tr>\n",
       "    <tr>\n",
       "      <th>2</th>\n",
       "      <td>Biometric Authentication</td>\n",
       "      <td>false_rejection_rate</td>\n",
       "      <td>-3.45</td>\n",
       "      <td>0.064</td>\n",
       "      <td>False</td>\n",
       "      <td>0.0±0.0</td>\n",
       "      <td>3.45±6.64</td>\n",
       "    </tr>\n",
       "    <tr>\n",
       "      <th>3</th>\n",
       "      <td>Biometric Authentication</td>\n",
       "      <td>critical_error_rate</td>\n",
       "      <td>-3.03</td>\n",
       "      <td>0.081</td>\n",
       "      <td>False</td>\n",
       "      <td>0.0±0.0</td>\n",
       "      <td>3.03±5.85</td>\n",
       "    </tr>\n",
       "    <tr>\n",
       "      <th>4</th>\n",
       "      <td>Biometric Authentication</td>\n",
       "      <td>extraction_error_rate</td>\n",
       "      <td>0.00</td>\n",
       "      <td>NaN</td>\n",
       "      <td>False</td>\n",
       "      <td>0.0±0.0</td>\n",
       "      <td>0.0±0.0</td>\n",
       "    </tr>\n",
       "    <tr>\n",
       "      <th>5</th>\n",
       "      <td>Biometric Passive Liveness</td>\n",
       "      <td>missed_fraud_rate</td>\n",
       "      <td>1.88</td>\n",
       "      <td>0.662</td>\n",
       "      <td>False</td>\n",
       "      <td>1.88±1.38</td>\n",
       "      <td>0.0±0.0</td>\n",
       "    </tr>\n",
       "    <tr>\n",
       "      <th>6</th>\n",
       "      <td>Biometric Passive Liveness</td>\n",
       "      <td>false_approve_rate</td>\n",
       "      <td>5.13</td>\n",
       "      <td>0.384</td>\n",
       "      <td>False</td>\n",
       "      <td>5.13±1.48</td>\n",
       "      <td>0.0±0.0</td>\n",
       "    </tr>\n",
       "    <tr>\n",
       "      <th>7</th>\n",
       "      <td>Biometric Passive Liveness</td>\n",
       "      <td>false_rejection_rate</td>\n",
       "      <td>0.28</td>\n",
       "      <td>0.726</td>\n",
       "      <td>False</td>\n",
       "      <td>0.28±0.17</td>\n",
       "      <td>0.0±0.0</td>\n",
       "    </tr>\n",
       "    <tr>\n",
       "      <th>8</th>\n",
       "      <td>Biometric Passive Liveness</td>\n",
       "      <td>critical_error_rate</td>\n",
       "      <td>1.21</td>\n",
       "      <td>0.388</td>\n",
       "      <td>False</td>\n",
       "      <td>1.21±0.32</td>\n",
       "      <td>0.0±0.0</td>\n",
       "    </tr>\n",
       "    <tr>\n",
       "      <th>9</th>\n",
       "      <td>Biometric Passive Liveness</td>\n",
       "      <td>extraction_error_rate</td>\n",
       "      <td>0.00</td>\n",
       "      <td>NaN</td>\n",
       "      <td>False</td>\n",
       "      <td>0.0±0.0</td>\n",
       "      <td>0.0±0.0</td>\n",
       "    </tr>\n",
       "    <tr>\n",
       "      <th>10</th>\n",
       "      <td>Document Verification</td>\n",
       "      <td>missed_fraud_rate</td>\n",
       "      <td>-7.54</td>\n",
       "      <td>0.068</td>\n",
       "      <td>False</td>\n",
       "      <td>0.0±0.0</td>\n",
       "      <td>7.54±2.1</td>\n",
       "    </tr>\n",
       "    <tr>\n",
       "      <th>11</th>\n",
       "      <td>Document Verification</td>\n",
       "      <td>false_approve_rate</td>\n",
       "      <td>-7.45</td>\n",
       "      <td>0.070</td>\n",
       "      <td>False</td>\n",
       "      <td>0.0±0.0</td>\n",
       "      <td>7.45±2.09</td>\n",
       "    </tr>\n",
       "    <tr>\n",
       "      <th>12</th>\n",
       "      <td>Document Verification</td>\n",
       "      <td>false_rejection_rate</td>\n",
       "      <td>0.60</td>\n",
       "      <td>0.163</td>\n",
       "      <td>False</td>\n",
       "      <td>1.34±1.07</td>\n",
       "      <td>0.75±0.19</td>\n",
       "    </tr>\n",
       "    <tr>\n",
       "      <th>13</th>\n",
       "      <td>Document Verification</td>\n",
       "      <td>critical_error_rate</td>\n",
       "      <td>-0.22</td>\n",
       "      <td>0.475</td>\n",
       "      <td>False</td>\n",
       "      <td>0.64±0.51</td>\n",
       "      <td>0.87±0.16</td>\n",
       "    </tr>\n",
       "    <tr>\n",
       "      <th>14</th>\n",
       "      <td>Document Verification</td>\n",
       "      <td>extraction_error_rate</td>\n",
       "      <td>0.59</td>\n",
       "      <td>0.253</td>\n",
       "      <td>False</td>\n",
       "      <td>2.9±1.08</td>\n",
       "      <td>2.31±0.26</td>\n",
       "    </tr>\n",
       "    <tr>\n",
       "      <th>15</th>\n",
       "      <td>IDV</td>\n",
       "      <td>missed_fraud_rate</td>\n",
       "      <td>2.61</td>\n",
       "      <td>0.237</td>\n",
       "      <td>False</td>\n",
       "      <td>6.48±3.07</td>\n",
       "      <td>3.87±2.81</td>\n",
       "    </tr>\n",
       "    <tr>\n",
       "      <th>16</th>\n",
       "      <td>IDV</td>\n",
       "      <td>false_approve_rate</td>\n",
       "      <td>-1.45</td>\n",
       "      <td>0.564</td>\n",
       "      <td>False</td>\n",
       "      <td>8.02±3.29</td>\n",
       "      <td>9.47±3.68</td>\n",
       "    </tr>\n",
       "    <tr>\n",
       "      <th>17</th>\n",
       "      <td>IDV</td>\n",
       "      <td>false_rejection_rate</td>\n",
       "      <td>0.15</td>\n",
       "      <td>0.539</td>\n",
       "      <td>False</td>\n",
       "      <td>0.68±0.32</td>\n",
       "      <td>0.53±0.33</td>\n",
       "    </tr>\n",
       "    <tr>\n",
       "      <th>18</th>\n",
       "      <td>IDV</td>\n",
       "      <td>critical_error_rate</td>\n",
       "      <td>-0.11</td>\n",
       "      <td>0.636</td>\n",
       "      <td>False</td>\n",
       "      <td>0.91±0.29</td>\n",
       "      <td>1.02±0.35</td>\n",
       "    </tr>\n",
       "    <tr>\n",
       "      <th>19</th>\n",
       "      <td>IDV</td>\n",
       "      <td>extraction_error_rate</td>\n",
       "      <td>1.33</td>\n",
       "      <td>0.001</td>\n",
       "      <td>True</td>\n",
       "      <td>3.47±0.56</td>\n",
       "      <td>2.14±0.5</td>\n",
       "    </tr>\n",
       "  </tbody>\n",
       "</table>\n",
       "</div>"
      ],
      "text/plain": [
       "                         Group                 Metric  Delta, %  P-Value  \\\n",
       "0     Biometric Authentication      missed_fraud_rate      0.00      NaN   \n",
       "1     Biometric Authentication     false_approve_rate      0.00      NaN   \n",
       "2     Biometric Authentication   false_rejection_rate     -3.45    0.064   \n",
       "3     Biometric Authentication    critical_error_rate     -3.03    0.081   \n",
       "4     Biometric Authentication  extraction_error_rate      0.00      NaN   \n",
       "5   Biometric Passive Liveness      missed_fraud_rate      1.88    0.662   \n",
       "6   Biometric Passive Liveness     false_approve_rate      5.13    0.384   \n",
       "7   Biometric Passive Liveness   false_rejection_rate      0.28    0.726   \n",
       "8   Biometric Passive Liveness    critical_error_rate      1.21    0.388   \n",
       "9   Biometric Passive Liveness  extraction_error_rate      0.00      NaN   \n",
       "10       Document Verification      missed_fraud_rate     -7.54    0.068   \n",
       "11       Document Verification     false_approve_rate     -7.45    0.070   \n",
       "12       Document Verification   false_rejection_rate      0.60    0.163   \n",
       "13       Document Verification    critical_error_rate     -0.22    0.475   \n",
       "14       Document Verification  extraction_error_rate      0.59    0.253   \n",
       "15                         IDV      missed_fraud_rate      2.61    0.237   \n",
       "16                         IDV     false_approve_rate     -1.45    0.564   \n",
       "17                         IDV   false_rejection_rate      0.15    0.539   \n",
       "18                         IDV    critical_error_rate     -0.11    0.636   \n",
       "19                         IDV  extraction_error_rate      1.33    0.001   \n",
       "\n",
       "    Significant Rate_has_video_True, % Rate_has_video_False, %  \n",
       "0         False                0.0±0.0                 0.0±0.0  \n",
       "1         False                0.0±0.0                 0.0±0.0  \n",
       "2         False                0.0±0.0               3.45±6.64  \n",
       "3         False                0.0±0.0               3.03±5.85  \n",
       "4         False                0.0±0.0                 0.0±0.0  \n",
       "5         False              1.88±1.38                 0.0±0.0  \n",
       "6         False              5.13±1.48                 0.0±0.0  \n",
       "7         False              0.28±0.17                 0.0±0.0  \n",
       "8         False              1.21±0.32                 0.0±0.0  \n",
       "9         False                0.0±0.0                 0.0±0.0  \n",
       "10        False                0.0±0.0                7.54±2.1  \n",
       "11        False                0.0±0.0               7.45±2.09  \n",
       "12        False              1.34±1.07               0.75±0.19  \n",
       "13        False              0.64±0.51               0.87±0.16  \n",
       "14        False               2.9±1.08               2.31±0.26  \n",
       "15        False              6.48±3.07               3.87±2.81  \n",
       "16        False              8.02±3.29               9.47±3.68  \n",
       "17        False              0.68±0.32               0.53±0.33  \n",
       "18        False              0.91±0.29               1.02±0.35  \n",
       "19         True              3.47±0.56                2.14±0.5  "
      ]
     },
     "execution_count": 180,
     "metadata": {},
     "output_type": "execute_result"
    }
   ],
   "source": [
    "results_df['Delta, %'] = round(results_df['Delta']*100,2) # Convert to percentage\n",
    "results_df['P-Value'] = round(results_df['P-Value'],3)  # Round P-Value for better readability\n",
    "results_df['Rate_has_video_True, %'] = round(results_df['Rate_has_video_True']*100, 2).astype(str) + '±' + round(results_df['Margin_has_video_True']*100, 2).astype(str)\n",
    "results_df['Rate_has_video_False, %'] = round(results_df['Rate_has_video_False']*100, 2).astype(str) + '±' + round(results_df['Margin_has_video_False']*100, 2).astype(str)\n",
    "results_df[['Group', 'Metric', 'Delta, %', 'P-Value', 'Significant', 'Rate_has_video_True, %', 'Rate_has_video_False, %']]"
   ]
  },
  {
   "cell_type": "code",
   "execution_count": 181,
   "id": "655d70f6",
   "metadata": {},
   "outputs": [
    {
     "data": {
      "text/html": [
       "<div>\n",
       "<style scoped>\n",
       "    .dataframe tbody tr th:only-of-type {\n",
       "        vertical-align: middle;\n",
       "    }\n",
       "\n",
       "    .dataframe tbody tr th {\n",
       "        vertical-align: top;\n",
       "    }\n",
       "\n",
       "    .dataframe thead th {\n",
       "        text-align: right;\n",
       "    }\n",
       "</style>\n",
       "<table border=\"1\" class=\"dataframe\">\n",
       "  <thead>\n",
       "    <tr style=\"text-align: right;\">\n",
       "      <th></th>\n",
       "      <th>Group</th>\n",
       "      <th>Metric</th>\n",
       "      <th>Delta, %</th>\n",
       "      <th>P-Value</th>\n",
       "      <th>Significant</th>\n",
       "      <th>Rate_has_video_True, %</th>\n",
       "      <th>Rate_has_video_False, %</th>\n",
       "    </tr>\n",
       "  </thead>\n",
       "  <tbody>\n",
       "    <tr>\n",
       "      <th>19</th>\n",
       "      <td>IDV</td>\n",
       "      <td>extraction_error_rate</td>\n",
       "      <td>1.33</td>\n",
       "      <td>0.001</td>\n",
       "      <td>True</td>\n",
       "      <td>3.47±0.56</td>\n",
       "      <td>2.14±0.5</td>\n",
       "    </tr>\n",
       "  </tbody>\n",
       "</table>\n",
       "</div>"
      ],
      "text/plain": [
       "   Group                 Metric  Delta, %  P-Value  Significant  \\\n",
       "19   IDV  extraction_error_rate      1.33    0.001         True   \n",
       "\n",
       "   Rate_has_video_True, % Rate_has_video_False, %  \n",
       "19              3.47±0.56                2.14±0.5  "
      ]
     },
     "execution_count": 181,
     "metadata": {},
     "output_type": "execute_result"
    }
   ],
   "source": [
    "a = results_df[results_df['Significant']== True].sort_values(by='Delta', ascending=True)\n",
    "a[['Group', 'Metric', 'Delta, %', 'P-Value',  'Significant', 'Rate_has_video_True, %', 'Rate_has_video_False, %']]"
   ]
  },
  {
   "cell_type": "code",
   "execution_count": 183,
   "id": "93a36438",
   "metadata": {},
   "outputs": [
    {
     "data": {
      "text/html": [
       "<div>\n",
       "<style scoped>\n",
       "    .dataframe tbody tr th:only-of-type {\n",
       "        vertical-align: middle;\n",
       "    }\n",
       "\n",
       "    .dataframe tbody tr th {\n",
       "        vertical-align: top;\n",
       "    }\n",
       "\n",
       "    .dataframe thead th {\n",
       "        text-align: right;\n",
       "    }\n",
       "</style>\n",
       "<table border=\"1\" class=\"dataframe\">\n",
       "  <thead>\n",
       "    <tr style=\"text-align: right;\">\n",
       "      <th></th>\n",
       "      <th></th>\n",
       "      <th>qa_reviewed</th>\n",
       "    </tr>\n",
       "    <tr>\n",
       "      <th>primary_product</th>\n",
       "      <th>has_video</th>\n",
       "      <th></th>\n",
       "    </tr>\n",
       "  </thead>\n",
       "  <tbody>\n",
       "    <tr>\n",
       "      <th rowspan=\"2\" valign=\"top\">Biometric Authentication</th>\n",
       "      <th>False</th>\n",
       "      <td>33</td>\n",
       "    </tr>\n",
       "    <tr>\n",
       "      <th>True</th>\n",
       "      <td>100</td>\n",
       "    </tr>\n",
       "    <tr>\n",
       "      <th rowspan=\"2\" valign=\"top\">Biometric Passive Liveness</th>\n",
       "      <th>False</th>\n",
       "      <td>61</td>\n",
       "    </tr>\n",
       "    <tr>\n",
       "      <th>True</th>\n",
       "      <td>4480</td>\n",
       "    </tr>\n",
       "    <tr>\n",
       "      <th rowspan=\"2\" valign=\"top\">Document Verification</th>\n",
       "      <th>False</th>\n",
       "      <td>12346</td>\n",
       "    </tr>\n",
       "    <tr>\n",
       "      <th>True</th>\n",
       "      <td>932</td>\n",
       "    </tr>\n",
       "    <tr>\n",
       "      <th rowspan=\"2\" valign=\"top\">IDV</th>\n",
       "      <th>False</th>\n",
       "      <td>3225</td>\n",
       "    </tr>\n",
       "    <tr>\n",
       "      <th>True</th>\n",
       "      <td>4154</td>\n",
       "    </tr>\n",
       "  </tbody>\n",
       "</table>\n",
       "</div>"
      ],
      "text/plain": [
       "                                      qa_reviewed\n",
       "primary_product            has_video             \n",
       "Biometric Authentication   False               33\n",
       "                           True               100\n",
       "Biometric Passive Liveness False               61\n",
       "                           True              4480\n",
       "Document Verification      False            12346\n",
       "                           True               932\n",
       "IDV                        False             3225\n",
       "                           True              4154"
      ]
     },
     "execution_count": 183,
     "metadata": {},
     "output_type": "execute_result"
    }
   ],
   "source": [
    "df.groupby(['primary_product', 'has_video']).agg({'qa_reviewed': 'sum'})"
   ]
  },
  {
   "cell_type": "code",
   "execution_count": null,
   "id": "1a228ead",
   "metadata": {},
   "outputs": [],
   "source": []
  }
 ],
 "metadata": {
  "kernelspec": {
   "display_name": ".coding-venv",
   "language": "python",
   "name": "python3"
  },
  "language_info": {
   "codemirror_mode": {
    "name": "ipython",
    "version": 3
   },
   "file_extension": ".py",
   "mimetype": "text/x-python",
   "name": "python",
   "nbconvert_exporter": "python",
   "pygments_lexer": "ipython3",
   "version": "3.13.3"
  }
 },
 "nbformat": 4,
 "nbformat_minor": 5
}
